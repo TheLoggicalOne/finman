{
 "cells": [
  {
   "cell_type": "code",
   "execution_count": 1,
   "outputs": [],
   "source": [
    "import numpy as np\n",
    "import matplotlib as mpl\n",
    "import matplotlib.pyplot as plt"
   ],
   "metadata": {
    "collapsed": false,
    "ExecuteTime": {
     "end_time": "2023-11-29T11:57:09.950479667Z",
     "start_time": "2023-11-29T11:57:09.755699133Z"
    }
   },
   "id": "22b636a3daf62365"
  },
  {
   "cell_type": "code",
   "execution_count": 2,
   "outputs": [
    {
     "name": "stdout",
     "output_type": "stream",
     "text": [
      "Using matplotlib backend: <object object at 0x7f03097ef170>\n"
     ]
    }
   ],
   "source": [
    "%matplotlib\n",
    "%matplotlib inline"
   ],
   "metadata": {
    "collapsed": false,
    "ExecuteTime": {
     "end_time": "2023-11-29T11:57:15.091309456Z",
     "start_time": "2023-11-29T11:57:15.031617142Z"
    }
   },
   "id": "466678ded37439ae"
  },
  {
   "cell_type": "markdown",
   "source": [
    "## finding interest rate of periodic payment plan\n",
    "- $p$ : present value\n",
    "- $n$ : number of periods\n",
    "- $r$ : interest per period\n",
    "- $d=\\frac{1}{1+r}$ : discount  multiplier\n",
    "- $m$ : periodic payment\n",
    "\n",
    "we have: \n",
    "$\\frac{m}{P} = \\frac{r}{1 - \\frac{1}{(1+r)^n}}$\n",
    "\n",
    "and \n",
    "$\\frac{P}{m} =\\dfrac{d(1-d^n)}{1-d} =\\dfrac{1-d^n}{r}$\n",
    "\n",
    "let $P/m=a$  \n",
    "\n",
    "the equation equivalent to:\n",
    "\n",
    "$d^n+d^{n-1}+...+d = \\frac{P}{m}$\n",
    "\n",
    "let: $a=\\frac{P}{m}$\n",
    " $f(d) = \\dfrac{d^n+d^{n-1}+...+d}{a}  -1$\n",
    " \n",
    "Note that $d$ is discount factor which has inverse relation with interest rate $r$ through $d=\\frac{1}{1+r}$\n",
    "and $d^{\\prime} = -\\frac{1}{(1+r)^2}$\n",
    "\n",
    "also note that $f(1)=\\dfrac{nm}{p}-1$ (note that this, i.e $d=1$ happens at $r=0$)\n",
    "\n",
    "if $f(1) >0$, everything seems as it should: since our total nominal payment $nm$ must be greater than $P$\n",
    "and if $f(1)<0$ we have problem of having negative interest rate."
   ],
   "metadata": {
    "collapsed": false
   },
   "id": "abb9934b7da592fd"
  },
  {
   "cell_type": "markdown",
   "source": [],
   "metadata": {
    "collapsed": false
   },
   "id": "4f2f8a6b07935b70"
  },
  {
   "cell_type": "markdown",
   "source": [
    "## What is $f(d)$ conceptually? how can we relate it to any value or monetary concept?\n",
    "Let consider profit of investor, as present value of investor cashflow, call it PVPI\n",
    "$PVPI = \\sum_{i=1}^n m*d^i - P = P*[\\dfrac{\\sum_{i=1}^n d^i}{\\frac{P}{m}}-1] = P*[\\dfrac{\\sum_{i=1}^n d^i}{a}-1] = P*f(d)$\n",
    "So $f(d)$ is exactly equivalent to investor profit per unit of investment. \n",
    "This make it even more great to work with P=1. (WLOG, because of linearity w.r.t P) "
   ],
   "metadata": {
    "collapsed": false
   },
   "id": "1e520e8c66c3ca20"
  },
  {
   "cell_type": "markdown",
   "source": [
    "For fix $P, m, n$ Note that $f(d)$ is increasing function of $d$ and decreasing function of $r$ \n",
    "\n",
    "Now we can say if $f(1)<0$ , means that best case scenario for investor ($r=0$) is still losing\n",
    " money so actually no investor would accept such a payment plan.\n",
    " "
   ],
   "metadata": {
    "collapsed": false
   },
   "id": "7abcf28beb6a321a"
  },
  {
   "cell_type": "markdown",
   "source": [
    "## finding the root\n",
    "we should solve $f(d)=0$. write this as follows:\n",
    "$a*f(d)=0$ or\n",
    "$\\sum_{i=1}^n d^i -a =0$\n",
    "\n",
    "Also note that $PVIP = P*f(d) = \\frac{P}{a} * (a * f(d)) = m * (a * f(d))$\n",
    "\n",
    "So $PVIP = m * (\\sum_{i=1}^n d^i -a)$ \n",
    " or\n",
    " $\\sum_{i=1}^n d^i -a = \\frac{1}{m}* PVIP$ \n",
    " \n",
    "this means that RHS of equation $\\sum_{i=1}^n d^i -a =0$ is investor profit is divided by $m$.\n",
    "From this we can decide how much error is tolerated and how exact we need to find $d$ , solution of this equation\n",
    "\n",
    "so for each given $P$ and $m$ and $n$ we need to find $d$ such that  $\\sum_{i=1}^n d^i = a = \\frac{P}{m}$.\n",
    "Let $g(d)=\\sum_{i=1}^n d^i$  Note that $g$ is increasing in $d$. \n",
    "So if we start from $d=1$ and decrease $d$ toward zero, $g(d)$ decrease from $n$ toward 0.\n",
    "But values of $d$ closer to $d=1$ are more important, more common and more natural! "
   ],
   "metadata": {
    "collapsed": false
   },
   "id": "2f40152055307d56"
  },
  {
   "cell_type": "markdown",
   "source": [],
   "metadata": {
    "collapsed": false
   },
   "id": "107fa0f36ddcf8a3"
  },
  {
   "cell_type": "code",
   "execution_count": 3,
   "outputs": [
    {
     "data": {
      "text/plain": "[<matplotlib.lines.Line2D at 0x7f02d1158a10>]"
     },
     "execution_count": 3,
     "metadata": {},
     "output_type": "execute_result"
    },
    {
     "data": {
      "text/plain": "<Figure size 640x480 with 1 Axes>",
      "image/png": "[encoded data removed]"
     },
     "metadata": {},
     "output_type": "display_data"
    }
   ],
   "source": [
    "# Lets draw some values of d vs corresponding r\n",
    "\n",
    "rps = np.linspace(0, 100, 201)\n",
    "rs = rps/100\n",
    "ds = 1/(1+rs)\n",
    "plt.plot(rs, ds)"
   ],
   "metadata": {
    "collapsed": false,
    "ExecuteTime": {
     "end_time": "2023-11-29T11:57:28.719104868Z",
     "start_time": "2023-11-29T11:57:28.595622500Z"
    }
   },
   "id": "4e273808701acf28"
  },
  {
   "cell_type": "markdown",
   "source": [
    "So even for $r=1$, i.e `100%` interest rate $d$ is higher than $0.5$\n",
    "So we could pre compute values of $g(d)$ for different $d$s for each given $n$\n"
   ],
   "metadata": {
    "collapsed": false
   },
   "id": "55df747d98d806e9"
  },
  {
   "cell_type": "markdown",
   "source": [
    "Focus on $g(d) = \\dfrac{d-d^{n+1}}{1-d}$. To be able to compute $g(d)$s for different $d$s and $n$s\n",
    "we only need to compute $d^n$ for different $d$s and $n$s\n",
    "Also note that powers of numbers might be useful for many other computations.\n",
    "So we would like to have pre computed $d^n$ for some different(typical!?) values \n",
    "of $d$ and $n$ \n"
   ],
   "metadata": {
    "collapsed": false
   },
   "id": "b32a111e2ea0816a"
  },
  {
   "cell_type": "markdown",
   "source": [
    "In case of are computation here, for each $n$ same computation is done for all \n",
    "different values of $d$. This most likely will be the case for many other situations\n",
    "as well.\n",
    "So let us create a vector $ds$ of different(usual) values of $d$\n",
    "Then compute $ds^n$ for different values (usual) of $n$. \n",
    "Let say we have $n_n$ different values for $n$ and $n_d$ be the number of different\n",
    " values for $d$.\n",
    " We create a `n_n * n_d` numpy array by stacking $n_n$ copies of $ds$ on top of each other\n",
    " Call this numpy array $D$. From $D$ we can get powers of $ds$ by `np.cumprod`\n",
    " "
   ],
   "metadata": {
    "collapsed": false
   },
   "id": "ddfdac0650769068"
  },
  {
   "cell_type": "code",
   "execution_count": 4,
   "outputs": [
    {
     "data": {
      "text/plain": "28.8"
     },
     "execution_count": 4,
     "metadata": {},
     "output_type": "execute_result"
    }
   ],
   "source": [
    "# Estimating size of data\n",
    "n_n=360\n",
    "n_d= 100 * 100\n",
    "bu = 8\n",
    "total_bytes = n_n * n_d * bu\n",
    "total_bytes_MG = total_bytes/10**6\n",
    "total_bytes_MG"
   ],
   "metadata": {
    "collapsed": false,
    "ExecuteTime": {
     "end_time": "2023-11-29T11:57:35.870878934Z",
     "start_time": "2023-11-29T11:57:35.861592440Z"
    }
   },
   "id": "8318df0d5400b655"
  },
  {
   "cell_type": "code",
   "execution_count": 5,
   "outputs": [
    {
     "data": {
      "text/plain": "(1, 10000)"
     },
     "execution_count": 5,
     "metadata": {},
     "output_type": "execute_result"
    }
   ],
   "source": [
    "# create vector of n's, called ns and vector of d's called ds\n",
    "ns_old = [1, 2, 3, 4, 5, 6, 7, 8, 9, 10, 11, 12, \n",
    "      15, 18, 21, 24, \n",
    "      30, 36,\n",
    "      48, 60, 72, 84, 96, 108, 120]\n",
    "\n",
    "ns = np.arange(1, n_n+1)\n",
    "PIP = 10**(-4)\n",
    "dis = list(range(10**4))\n",
    "ds = PIP*np.array(dis)\n",
    "ds = ds[np.newaxis,:]\n",
    "ds.shape"
   ],
   "metadata": {
    "collapsed": false,
    "ExecuteTime": {
     "end_time": "2023-11-29T11:57:41.526812367Z",
     "start_time": "2023-11-29T11:57:41.469278633Z"
    }
   },
   "id": "386b53c7b21be9c1"
  },
  {
   "cell_type": "code",
   "execution_count": 6,
   "outputs": [
    {
     "data": {
      "text/plain": "(360, 10000)"
     },
     "execution_count": 6,
     "metadata": {},
     "output_type": "execute_result"
    }
   ],
   "source": [
    "D=np.concatenate([ds for i in range(len(ns))], axis=0)\n",
    "D.shape"
   ],
   "metadata": {
    "collapsed": false,
    "ExecuteTime": {
     "end_time": "2023-11-29T11:57:44.240494976Z",
     "start_time": "2023-11-29T11:57:44.226372403Z"
    }
   },
   "id": "c37bf99ed4550c93"
  },
  {
   "cell_type": "code",
   "execution_count": 7,
   "outputs": [],
   "source": [
    "D_powers = np.cumprod(D, axis=0)"
   ],
   "metadata": {
    "collapsed": false,
    "ExecuteTime": {
     "end_time": "2023-11-29T11:57:46.072153801Z",
     "start_time": "2023-11-29T11:57:46.043288112Z"
    }
   },
   "id": "42080db93e13dee9"
  },
  {
   "cell_type": "code",
   "execution_count": 8,
   "outputs": [],
   "source": [
    "# first way of computing g(d), through g(d) = d+d^2+...+d^n\n",
    "D_powers_cumsums = np.cumsum(D_powers, axis=0)"
   ],
   "metadata": {
    "collapsed": false,
    "ExecuteTime": {
     "end_time": "2023-11-29T11:57:47.718782643Z",
     "start_time": "2023-11-29T11:57:47.676058840Z"
    }
   },
   "id": "89ce9057fddafaa5"
  },
  {
   "cell_type": "code",
   "execution_count": 9,
   "outputs": [],
   "source": [
    "# another way of computing g(d), through g(d) = (d-d^{n+1}) / (1-d)\n",
    "A = (D - D_powers*ds)/(1-ds)"
   ],
   "metadata": {
    "collapsed": false,
    "ExecuteTime": {
     "end_time": "2023-11-29T11:57:50.775767575Z",
     "start_time": "2023-11-29T11:57:50.669927741Z"
    }
   },
   "id": "95ef63adbfbb0bd9"
  },
  {
   "cell_type": "code",
   "execution_count": 10,
   "outputs": [],
   "source": [
    "# computing absolute error between two ways of computing\n",
    "gd_abs_error = D_powers_cumsums - A"
   ],
   "metadata": {
    "collapsed": false,
    "ExecuteTime": {
     "end_time": "2023-11-29T11:58:09.585625663Z",
     "start_time": "2023-11-29T11:58:09.546539551Z"
    }
   },
   "id": "cdfdae021e0e0180"
  },
  {
   "cell_type": "code",
   "execution_count": 11,
   "outputs": [
    {
     "data": {
      "text/plain": "3.893774191965349e-12"
     },
     "execution_count": 11,
     "metadata": {},
     "output_type": "execute_result"
    }
   ],
   "source": [
    "np.max(gd_abs_error)"
   ],
   "metadata": {
    "collapsed": false,
    "ExecuteTime": {
     "end_time": "2023-11-29T11:58:20.140306520Z",
     "start_time": "2023-11-29T11:58:20.090989519Z"
    }
   },
   "id": "303b0ef83a3c27c8"
  },
  {
   "cell_type": "code",
   "execution_count": 12,
   "outputs": [
    {
     "data": {
      "text/plain": "28.8"
     },
     "execution_count": 12,
     "metadata": {},
     "output_type": "execute_result"
    }
   ],
   "source": [
    "D_powers.nbytes/10**6"
   ],
   "metadata": {
    "collapsed": false,
    "ExecuteTime": {
     "end_time": "2023-11-29T11:58:30.289643439Z",
     "start_time": "2023-11-29T11:58:30.269387029Z"
    }
   },
   "id": "fd4f0447249b6310"
  },
  {
   "cell_type": "code",
   "execution_count": 13,
   "outputs": [
    {
     "data": {
      "text/plain": "(360, 10000)"
     },
     "execution_count": 13,
     "metadata": {},
     "output_type": "execute_result"
    }
   ],
   "source": [
    "DPS = D_powers_cumsums\n",
    "DPS.shape"
   ],
   "metadata": {
    "collapsed": false,
    "ExecuteTime": {
     "end_time": "2023-11-29T11:58:32.679407216Z",
     "start_time": "2023-11-29T11:58:32.667470551Z"
    }
   },
   "id": "88aa6bc4d54ad868"
  },
  {
   "cell_type": "code",
   "execution_count": 23,
   "outputs": [],
   "source": [
    "# additive delta from given column to next column, given value of d, to next value of d\n",
    "delta_DPS = DPS[:, 1:] - DPS[:, :-1]"
   ],
   "metadata": {
    "collapsed": false,
    "ExecuteTime": {
     "end_time": "2023-11-29T12:03:05.266596037Z",
     "start_time": "2023-11-29T12:03:05.247110995Z"
    }
   },
   "id": "93fabf686f393fd5"
  },
  {
   "cell_type": "code",
   "execution_count": 15,
   "outputs": [],
   "source": [
    "# multiplicative delta from given column to next column, given value of d, to next value of d\n",
    "geo_delta_DPS = delta_DPS / DPS[:, 1:]"
   ],
   "metadata": {
    "collapsed": false,
    "ExecuteTime": {
     "end_time": "2023-11-29T11:58:46.471682071Z",
     "start_time": "2023-11-29T11:58:46.417340463Z"
    }
   },
   "id": "c47ba4f8d5ac42a7"
  },
  {
   "cell_type": "code",
   "execution_count": 64,
   "outputs": [],
   "source": [
    "def my_range(*, arr=None, lower_row=None, upper_row=None, \n",
    "             lower_col=None, upper_col=None, \n",
    "             return_args=False):\n",
    "      arr_r = arr[lower_row:upper_row, lower_col:upper_col]\n",
    "      extremes = (np.min(arr_r) , np.max(arr_r))\n",
    "      if return_args:\n",
    "          # here I will add computation of argmin and argmax \n",
    "          arg_min_flat = np.argmin(arr_r)\n",
    "          arg_min_r = (arg_min_flat // arr_r.shape[1], arg_min_flat % arr_r.shape[1]) #\n",
    "          arg_min = (arg_min_r[0]+lower_row, arg_min_r[1]+lower_col)\n",
    "          \n",
    "          arg_max_flat = np.argmax(arr_r)\n",
    "          arg_max_r = (arg_max_flat // arr_r.shape[1], arg_max_flat % arr_r.shape[1])\n",
    "          arg_max = (arg_max_r[0]+lower_row, arg_max_r[1]+lower_col)\n",
    "          dic_r = {'min':extremes[0], 'max':extremes[1],\n",
    "                   'argmin': arg_min, 'argmax': arg_max}\n",
    "          return dic_r\n",
    "      else:\n",
    "          return extremes"
   ],
   "metadata": {
    "collapsed": false,
    "ExecuteTime": {
     "end_time": "2023-11-29T13:13:37.522062606Z",
     "start_time": "2023-11-29T13:13:37.473685329Z"
    }
   },
   "id": "6554e46c48d6aee4"
  },
  {
   "cell_type": "code",
   "execution_count": 31,
   "outputs": [
    {
     "data": {
      "text/plain": "(120, 9899)"
     },
     "execution_count": 31,
     "metadata": {},
     "output_type": "execute_result"
    }
   ],
   "source": [],
   "metadata": {
    "collapsed": false,
    "ExecuteTime": {
     "end_time": "2023-11-29T12:27:50.513694473Z",
     "start_time": "2023-11-29T12:27:50.451190235Z"
    }
   },
   "id": "8376dac3de9515f4"
  },
  {
   "cell_type": "code",
   "execution_count": 69,
   "outputs": [],
   "source": [
    "# what is max delta, on a sub array, since for first ...\n",
    "cols_lower = 100\n",
    "cols_upper = n_d\n",
    "\n",
    "row_lower = 0\n",
    "row_upper = 120\n",
    "\n",
    "ddd = my_range(arr=delta_DPS, lower_row=row_lower, upper_row=row_upper, \n",
    "         lower_col=cols_lower, upper_col=cols_upper,\n",
    "              return_args=True\n",
    "         )"
   ],
   "metadata": {
    "collapsed": false,
    "ExecuteTime": {
     "end_time": "2023-11-29T13:15:32.927436064Z",
     "start_time": "2023-11-29T13:15:32.880549987Z"
    }
   },
   "id": "ce11e4d80a92f2d2"
  },
  {
   "cell_type": "code",
   "execution_count": 68,
   "outputs": [
    {
     "data": {
      "text/plain": "(0.000100010001000089, 0.010001000100009988)"
     },
     "execution_count": 68,
     "metadata": {},
     "output_type": "execute_result"
    }
   ],
   "source": [
    "# what is max geo_delta, on a sub array, since for first ...\n",
    "cols_lower_geo = 100\n",
    "cols_upper_geo = n_d\n",
    "\n",
    "row_lower_geo = 0\n",
    "row_upper_geo = 120\n",
    "\n",
    "my_range(arr=geo_delta_DPS, lower_row=row_lower_geo,  upper_row=row_upper_geo, \n",
    "         lower_col=cols_lower_geo, upper_col=cols_upper_geo   \n",
    "         )"
   ],
   "metadata": {
    "collapsed": false,
    "ExecuteTime": {
     "end_time": "2023-11-29T13:14:38.468346526Z",
     "start_time": "2023-11-29T13:14:38.436433480Z"
    }
   },
   "id": "2b469e0d4ed9db22"
  },
  {
   "cell_type": "code",
   "execution_count": null,
   "outputs": [],
   "source": [],
   "metadata": {
    "collapsed": false
   },
   "id": "c5860e4d16675a00"
  }
 ],
 "metadata": {
  "kernelspec": {
   "display_name": "Python 3",
   "language": "python",
   "name": "python3"
  },
  "language_info": {
   "codemirror_mode": {
    "name": "ipython",
    "version": 2
   },
   "file_extension": ".py",
   "mimetype": "text/x-python",
   "name": "python",
   "nbconvert_exporter": "python",
   "pygments_lexer": "ipython2",
   "version": "2.7.6"
  }
 },
 "nbformat": 4,
 "nbformat_minor": 5
}
