{
 "cells": [
  {
   "cell_type": "code",
   "execution_count": 1,
   "id": "23b4fa72-203d-40c5-87a8-15ed3f75bf9f",
   "metadata": {},
   "outputs": [],
   "source": [
    "import numpy as np\n",
    "import pandas as pd\n",
    "import itertools\n",
    "import random\n",
    "from functools import partial"
   ]
  },
  {
   "cell_type": "code",
   "execution_count": 2,
   "id": "1cdd6864-f5c3-47a8-a877-a2b94471b3d1",
   "metadata": {},
   "outputs": [],
   "source": [
    "import pv_calc"
   ]
  },
  {
   "cell_type": "code",
   "execution_count": 3,
   "id": "6d614a09",
   "metadata": {},
   "outputs": [
    {
     "data": {
      "text/plain": [
       "0.2682417945625455"
      ]
     },
     "execution_count": 3,
     "metadata": {},
     "output_type": "execute_result"
    }
   ],
   "source": [
    "pv_calc.convert_ir(0.02, 1, 12)"
   ]
  },
  {
   "cell_type": "code",
   "execution_count": 5,
   "id": "2b3ee239-2f0d-46bb-8b9b-2e886743b75d",
   "metadata": {},
   "outputs": [
    {
     "data": {
      "text/plain": [
       "[2499.32,\n",
       " 16.02,\n",
       " 16.02,\n",
       " 16.02,\n",
       " 16.02,\n",
       " 16.02,\n",
       " 16.02,\n",
       " 16.02,\n",
       " 16.02,\n",
       " 16.02,\n",
       " 16.02,\n",
       " 16.02,\n",
       " 16.02,\n",
       " None]"
      ]
     },
     "execution_count": 5,
     "metadata": {},
     "output_type": "execute_result"
    }
   ],
   "source": [
    "mazda3_12 = pv_calc.create_payments(2499.32, 16.02, 12)\n",
    "mazda3_12"
   ]
  },
  {
   "cell_type": "code",
   "execution_count": 6,
   "id": "79174c94-d1c2-490d-856c-b1dfc7250b40",
   "metadata": {},
   "outputs": [
    {
     "ename": "TypeError",
     "evalue": "pv_calc() takes 0 positional arguments but 2 were given",
     "output_type": "error",
     "traceback": [
      "\u001b[0;31m---------------------------------------------------------------------------\u001b[0m",
      "\u001b[0;31mTypeError\u001b[0m                                 Traceback (most recent call last)",
      "Cell \u001b[0;32mIn[6], line 1\u001b[0m\n\u001b[0;32m----> 1\u001b[0m pv_calc\u001b[38;5;241m.\u001b[39mpv_calc(([\u001b[38;5;241m2499.32\u001b[39m]\u001b[38;5;241m+\u001b[39m\u001b[38;5;241m12\u001b[39m\u001b[38;5;241m*\u001b[39m[\u001b[38;5;241m16.02\u001b[39m]), \u001b[38;5;241m0.02\u001b[39m)\n",
      "\u001b[0;31mTypeError\u001b[0m: pv_calc() takes 0 positional arguments but 2 were given"
     ]
    }
   ],
   "source": [
    "pv_calc.pv_calc(([2499.32]+12*[16.02]), 0.02)"
   ]
  },
  {
   "cell_type": "code",
   "execution_count": null,
   "id": "d5a623c7-e883-493f-82b9-291f5e2a7fc9",
   "metadata": {},
   "outputs": [],
   "source": [
    "l2=12*353/365\n",
    "p2=187"
   ]
  },
  {
   "cell_type": "code",
   "execution_count": null,
   "id": "8093e509-a280-4609-8099-a5fb372cfa49",
   "metadata": {},
   "outputs": [],
   "source": [
    "l2"
   ]
  },
  {
   "cell_type": "code",
   "execution_count": null,
   "id": "5e46af65-9c0b-4afb-837b-832d7aa97f2c",
   "metadata": {},
   "outputs": [],
   "source": [
    "l3=12*405/365\n",
    "p3=3.5"
   ]
  },
  {
   "cell_type": "code",
   "execution_count": null,
   "id": "1b3305b1-a5bf-46bd-9671-c11d03c84e3f",
   "metadata": {},
   "outputs": [],
   "source": [
    "l3"
   ]
  },
  {
   "cell_type": "code",
   "execution_count": null,
   "id": "d431982b-8862-4019-a376-41401004ae78",
   "metadata": {},
   "outputs": [],
   "source": [
    "l4=16.5\n",
    "p4=642"
   ]
  },
  {
   "cell_type": "code",
   "execution_count": null,
   "id": "4421e856-2091-44dd-ac87-d3c091e063ca",
   "metadata": {},
   "outputs": [],
   "source": [
    "pays=[(l1, p1), (l2,p2), (l3,p3), (l4,p4)]"
   ]
  },
  {
   "cell_type": "code",
   "execution_count": null,
   "id": "b49d7d3c-4040-42b8-a048-641651464a52",
   "metadata": {},
   "outputs": [],
   "source": [
    "# IRR_calc(payments=pays, present_value=0, rest=1)"
   ]
  },
  {
   "cell_type": "code",
   "execution_count": null,
   "id": "144220db-a6af-422b-bb96-1e436b9db74f",
   "metadata": {},
   "outputs": [],
   "source": []
  },
  {
   "cell_type": "code",
   "execution_count": null,
   "id": "dffdefd6-0376-4fa5-9271-66b19d800d47",
   "metadata": {},
   "outputs": [],
   "source": [
    "def f(r):\n",
    "    return p1*(1+r)**(l4-l1)+p2*(1+r)**(l4-l2)+p3*(1+r)**(l4-l3)\n",
    "    "
   ]
  },
  {
   "cell_type": "code",
   "execution_count": null,
   "id": "cf9cac89-b54b-4ae2-a06b-97a1628d73d6",
   "metadata": {},
   "outputs": [],
   "source": [
    "i=0\n",
    "thr = 10**(-6 )\n",
    "while f(i)<p4:\n",
    "    i=i+thr"
   ]
  },
  {
   "cell_type": "code",
   "execution_count": null,
   "id": "3178f740-e83f-4497-bfbb-c2bca82cdbca",
   "metadata": {},
   "outputs": [],
   "source": [
    "i"
   ]
  },
  {
   "cell_type": "code",
   "execution_count": null,
   "id": "6b95dacf-ffa1-4a4e-93db-a074bd397fac",
   "metadata": {},
   "outputs": [],
   "source": []
  },
  {
   "cell_type": "code",
   "execution_count": null,
   "id": "659c1b08-2ee7-4452-872c-5f5d3f7ed9b1",
   "metadata": {},
   "outputs": [],
   "source": [
    "# p3*(1+i)**(l4-l3)"
   ]
  },
  {
   "cell_type": "code",
   "execution_count": null,
   "id": "f1e9d5a9-0ad1-4ddb-a883-1d2fd85e99cc",
   "metadata": {},
   "outputs": [],
   "source": [
    "p1*(1+i)**(l4-l1)+p3*(1+i)**(l4-l3)"
   ]
  },
  {
   "cell_type": "code",
   "execution_count": null,
   "id": "9eadc6ae-2788-4453-9558-5ef97d4417bd",
   "metadata": {},
   "outputs": [],
   "source": [
    "p2*(1+i)**(l4-l2)"
   ]
  },
  {
   "cell_type": "code",
   "execution_count": null,
   "id": "ba65635d-fa71-4ba6-9b1e-c326bfdb8bfb",
   "metadata": {},
   "outputs": [],
   "source": [
    "class investment:\n",
    "    def __init__(self, payments=None):\n",
    "        self.payments = payments or []\n",
    "    \n",
    "\n",
    "        \n",
    "    "
   ]
  },
  {
   "cell_type": "code",
   "execution_count": null,
   "id": "5f3e86ee-585f-49ff-89c4-015a1e9bf247",
   "metadata": {},
   "outputs": [],
   "source": [
    "# Difility Past\n",
    "current_day=34\n",
    "second_pay_day_from_now = 0\n",
    "second_pay_day = current_day +\n",
    "p1 = payment(amount=1020,day_to_now=-34)\n",
    "p2 = payment(613.25, )\n"
   ]
  },
  {
   "cell_type": "code",
   "execution_count": null,
   "id": "055b2d37-ada4-40fb-bded-142911cb98a2",
   "metadata": {},
   "outputs": [],
   "source": [
    "# Fidility Future\n",
    "price_f = 1865\n",
    "time_to_sell=60\n",
    "\n",
    "\n"
   ]
  },
  {
   "cell_type": "code",
   "execution_count": null,
   "id": "0157c734-55ef-41cf-a901-d12839514fae",
   "metadata": {},
   "outputs": [],
   "source": [
    "class Pay:\n",
    "    pass "
   ]
  },
  {
   "cell_type": "code",
   "execution_count": null,
   "id": "aaf89787-b8b3-4255-a523-67baa8232618",
   "metadata": {},
   "outputs": [],
   "source": [
    "class Inv:\n",
    "    pass"
   ]
  },
  {
   "cell_type": "code",
   "execution_count": null,
   "id": "a237784a-5407-433f-8c9e-f1d72e2b2799",
   "metadata": {},
   "outputs": [],
   "source": [
    "# Fidility Payments\n",
    "# Initialize first payments:p1\n",
    "p1 = Pay()\n",
    "p1.v = 1020\n",
    "p1.day = -34\n",
    "p1.now =0\n",
    "\n",
    "pp1 = Payment(1020, -34)"
   ]
  },
  {
   "cell_type": "code",
   "execution_count": null,
   "id": "3ac3aac4-24ab-4061-a020-6626328d6973",
   "metadata": {},
   "outputs": [],
   "source": [
    "# Initialize Second payments:p2\n",
    "p2 = Pay()\n",
    "p2.v = 613.25\n",
    "p2.now = 0\n",
    "p2_day_from_now = 0\n",
    "p2.day = p2_day_from_now\n",
    "\n",
    "\n",
    "pp2 = Payment(613.25, p2_day_from_now)"
   ]
  },
  {
   "cell_type": "code",
   "execution_count": null,
   "id": "7929c4e2-e0d5-4e04-bace-87a798265619",
   "metadata": {},
   "outputs": [],
   "source": [
    "p1.v == pp1.v"
   ]
  },
  {
   "cell_type": "code",
   "execution_count": null,
   "id": "48dc9457-6652-4788-88e0-1409d1714a76",
   "metadata": {},
   "outputs": [],
   "source": [
    "p2.day == pp2.pay_day"
   ]
  },
  {
   "cell_type": "code",
   "execution_count": null,
   "id": "39e754c3-085f-4fef-b13c-06f39b4011af",
   "metadata": {},
   "outputs": [],
   "source": [
    "pays = [p1,p2]"
   ]
  },
  {
   "cell_type": "code",
   "execution_count": null,
   "id": "af4aa98c-3abe-44be-a62e-31d74fd7a5fe",
   "metadata": {},
   "outputs": [],
   "source": [
    "p2.day"
   ]
  },
  {
   "cell_type": "code",
   "execution_count": null,
   "id": "1a60019d-7139-4c4f-ba0f-7230c007bce0",
   "metadata": {},
   "outputs": [],
   "source": [
    "# Initialize last payments:pf\n",
    "pf = Pay()\n",
    "pf.v = price_f\n",
    "pf.now = 0\n",
    "pf.time_to_sell = time_to_sell\n",
    "pf.day = pf.time_to_sell + p2.day"
   ]
  },
  {
   "cell_type": "code",
   "execution_count": null,
   "id": "711f6f89-be26-4a23-a9b4-57c903a3405b",
   "metadata": {},
   "outputs": [],
   "source": [
    "pf.day"
   ]
  },
  {
   "cell_type": "code",
   "execution_count": null,
   "id": "f617ae10-8a8b-452e-82d7-4826d391079a",
   "metadata": {},
   "outputs": [],
   "source": [
    "def fv(i): \n",
    "    return sum(p.v*(1+i)**((pf.day-p.day)/30) for p in pays)"
   ]
  },
  {
   "cell_type": "code",
   "execution_count": null,
   "id": "cb89809c-0bea-4822-ae1e-3d8260735f59",
   "metadata": {},
   "outputs": [],
   "source": [
    "# calculate rate of return:\n",
    "i=0\n",
    "thr = 10**(-6 )\n",
    "while fv(i)<pf.v:\n",
    "    i=i+thr\n",
    "\n",
    "\n"
   ]
  },
  {
   "cell_type": "code",
   "execution_count": null,
   "id": "f0736a47-c111-4eab-b77d-eb7136cdef80",
   "metadata": {},
   "outputs": [],
   "source": [
    "i"
   ]
  },
  {
   "cell_type": "code",
   "execution_count": null,
   "id": "b5731c6c-9114-49e3-9262-b28d9c1d6650",
   "metadata": {},
   "outputs": [],
   "source": [
    "P1 = Payment(1020, -34)\n",
    "P2 = "
   ]
  },
  {
   "cell_type": "code",
   "execution_count": null,
   "id": "bcec2aab-bf72-4dab-8077-bbf412347778",
   "metadata": {},
   "outputs": [],
   "source": [
    "class Payment:\n",
    "    def __init__(self, amount=0,  pay_day=None, days_from_now=None, current_day=0,is_certain=True):\n",
    "        if pay_day is not None:\n",
    "            self.pay_day = pay_day\n",
    "            if days_from_now is not None: \n",
    "                assert(current_day+days_from_now == pay_day)    \n",
    "            else:\n",
    "                self.days_from_now = pay_day - current_day \n",
    "        elif days_from_now is not None:\n",
    "            self.days_from_now = days_from_now\n",
    "            self.pay_day = days_from_now + current_day\n",
    "        else:\n",
    "            print(\"A Payment Should have pay_day or days_from_now not None\")\n",
    "        self.amount = amount\n",
    "        self.current_day = current_day\n",
    "        self.is_certain = is_certain\n",
    "        self.v = self.amount\n",
    "    \n",
    "    def value_at(self, evalute_at=0, periodic_return=0, period_len=30):\n",
    "        return (1+periodic_return)**((evalute_at-self.pay_day)/period_len)*self.amount\n",
    "    "
   ]
  },
  {
   "cell_type": "code",
   "execution_count": null,
   "id": "364d90c6-9e81-4ac4-8874-20b8143c1067",
   "metadata": {},
   "outputs": [],
   "source": [
    "class WorldState:\n",
    "    def __init__(self, sell_price=1865, second_pay_to_sell=60, second_pay_from_now=0):\n",
    "        self.sell_price = sell_price\n",
    "        self.second_pay_to_sell = second_pay_to_sell\n",
    "        self.second_pay_from_now = second_pay_from_now\n",
    "        # print(self.second_pay_from_now)\n",
    "        self.p1 = Payment(1020, -34)\n",
    "        self.p2 = Payment(613.25, days_from_now=self.second_pay_from_now)\n",
    "        self.pays = [self.p1, self.p2]\n",
    "        self.pf = Payment(self.sell_price, self.p2.pay_day+self.second_pay_to_sell)\n",
    "    def calc_i(self, thr=10**(-6)):\n",
    "        i=0\n",
    "        while sum(p.v*(1+i)**((self.pf.pay_day-p.pay_day)/30) for p in self.pays) < self.pf.v:\n",
    "            i = i+thr\n",
    "        return i\n",
    "        \n",
    "        "
   ]
  },
  {
   "cell_type": "code",
   "execution_count": null,
   "id": "7df0c0e9-c5fb-4fd6-b92d-1286855d1bda",
   "metadata": {},
   "outputs": [],
   "source": [
    "def i_calc(ws, thr = 10**(-6)):\n",
    "    i=0\n",
    "    while sum(p.v*(1+i)**((ws.pf.pay_day-p.pay_day)/30) for p in ws.pays) < ws.pf.v:\n",
    "        i = i+thr\n",
    "    return i"
   ]
  },
  {
   "cell_type": "code",
   "execution_count": null,
   "id": "67d3de09-18a4-44aa-8f0f-97e706259e55",
   "metadata": {},
   "outputs": [],
   "source": [
    "respect = WorldState(sell_price=1530, second_pay_to_sell=40, second_pay_from_now=20)\n",
    "rs = respect"
   ]
  },
  {
   "cell_type": "code",
   "execution_count": null,
   "id": "c42675bf-a534-4f57-b4aa-8d0b23a9d1cf",
   "metadata": {},
   "outputs": [],
   "source": [
    "rs.p1 = Payment(728,-20)"
   ]
  },
  {
   "cell_type": "code",
   "execution_count": null,
   "id": "e9bbaf08-0385-478b-8074-c48fb25cdbca",
   "metadata": {},
   "outputs": [],
   "source": [
    "rs.p2 = Payment(485, days_from_now=20)"
   ]
  },
  {
   "cell_type": "code",
   "execution_count": null,
   "id": "483eaa01-578a-4de6-928c-9312e5bc303f",
   "metadata": {},
   "outputs": [],
   "source": []
  },
  {
   "cell_type": "code",
   "execution_count": null,
   "id": "5c6f9551-058e-41cd-bfc0-4847024e43b2",
   "metadata": {},
   "outputs": [],
   "source": [
    "rs.calc_i()"
   ]
  },
  {
   "cell_type": "code",
   "execution_count": null,
   "id": "35566e90-bfc2-41c6-8e32-cdb8da28eab5",
   "metadata": {},
   "outputs": [],
   "source": []
  },
  {
   "cell_type": "code",
   "execution_count": null,
   "id": "da8389d2-3fb8-4c8a-b761-b66a8b0214f8",
   "metadata": {},
   "outputs": [],
   "source": []
  },
  {
   "cell_type": "code",
   "execution_count": null,
   "id": "2849b0a3-7224-405d-9c84-530478035957",
   "metadata": {},
   "outputs": [],
   "source": [
    "ws0 = WorldState()"
   ]
  },
  {
   "cell_type": "code",
   "execution_count": null,
   "id": "0d7bc24e-69a4-4257-a049-6d4895d8f761",
   "metadata": {},
   "outputs": [],
   "source": [
    "ws0.second_pay_from_now"
   ]
  },
  {
   "cell_type": "code",
   "execution_count": null,
   "id": "7659bb11-483d-47fe-9dbe-9b658a3aa335",
   "metadata": {},
   "outputs": [],
   "source": [
    "ws0.p2.days_from_now"
   ]
  },
  {
   "cell_type": "code",
   "execution_count": null,
   "id": "8df11074-db0e-40a9-909d-266001d62cd0",
   "metadata": {},
   "outputs": [],
   "source": [
    "ws0.p2.pay_day"
   ]
  },
  {
   "cell_type": "code",
   "execution_count": null,
   "id": "5f9d7817-69e1-4294-b0fe-eb6d2902d180",
   "metadata": {},
   "outputs": [],
   "source": [
    "ws0.calc_i()"
   ]
  },
  {
   "cell_type": "code",
   "execution_count": null,
   "id": "433fd554-a06e-40e0-b991-b18a506168f4",
   "metadata": {
    "scrolled": true
   },
   "outputs": [],
   "source": [
    "i_calc(ws0)"
   ]
  },
  {
   "cell_type": "code",
   "execution_count": null,
   "id": "3d2b6f6a-f271-4468-ad33-e3a1c267c970",
   "metadata": {},
   "outputs": [],
   "source": [
    "WorldState(second_pay_to_sell=70, second_pay_from_now=0).calc_i()"
   ]
  },
  {
   "cell_type": "code",
   "execution_count": null,
   "id": "6ae549c2-2502-47db-b7cd-0580ed1ec826",
   "metadata": {},
   "outputs": [],
   "source": [
    "WorldState(second_pay_to_sell=56, second_pay_from_now=14).calc_i()"
   ]
  },
  {
   "cell_type": "code",
   "execution_count": null,
   "id": "558dc815-0142-4448-ac7e-91dece410f96",
   "metadata": {},
   "outputs": [],
   "source": [
    "WorldState(second_pay_to_sell=40, second_pay_from_now=0).calc_i()"
   ]
  },
  {
   "cell_type": "code",
   "execution_count": null,
   "id": "b025f4df-109b-46f3-89a0-1929d382535b",
   "metadata": {},
   "outputs": [],
   "source": [
    "FN = [0, 5, 10, 15]\n",
    "SP = [1865*1.01**n for n in range(-10,10)]\n",
    "TS =[30, 40, 50, 60, 70]\n"
   ]
  },
  {
   "cell_type": "code",
   "execution_count": null,
   "id": "3456949b-221d-4970-ab67-50ea0a82da3c",
   "metadata": {},
   "outputs": [],
   "source": [
    "SP"
   ]
  },
  {
   "cell_type": "code",
   "execution_count": null,
   "id": "f2d6dc71-0252-453a-92b4-409e055338f3",
   "metadata": {},
   "outputs": [],
   "source": [
    "RTL = RT = [[[WorldState(sp, ts, fn).calc_i() for ts in TS] for sp in SP] for fn in FN]"
   ]
  },
  {
   "cell_type": "code",
   "execution_count": null,
   "id": "a352190f-6e69-4b0c-abe8-e615a3e47f0d",
   "metadata": {},
   "outputs": [],
   "source": [
    "RT = {fn:{sp: {ts:WorldState(sp, ts, fn).calc_i() for ts in TS} for sp in SP} for fn in FN}"
   ]
  },
  {
   "cell_type": "code",
   "execution_count": null,
   "id": "aae80817-3d29-4f79-aa61-c60256240729",
   "metadata": {},
   "outputs": [],
   "source": [
    "rtls = [[sp, ts, fn, WorldState(sp, ts, fn).calc_i()] for ts in TS for sp in SP for fn in FN]"
   ]
  },
  {
   "cell_type": "code",
   "execution_count": null,
   "id": "33969a83-7391-4f5c-9476-ca7f1909afc8",
   "metadata": {},
   "outputs": [],
   "source": [
    "dfrs = pd.DataFrame(rtls, columns=[\"sell_price\", \"second_pay_to_sell\",\"second_pay_from_now\", \"rate_of_return\" ])"
   ]
  },
  {
   "cell_type": "code",
   "execution_count": null,
   "id": "a2a835cb-0ffa-4050-936a-f7c6b49aa977",
   "metadata": {},
   "outputs": [],
   "source": [
    "round(1.1)"
   ]
  },
  {
   "cell_type": "code",
   "execution_count": null,
   "id": "ef940d17-c8a9-4325-a4af-64e2d69f9f77",
   "metadata": {},
   "outputs": [],
   "source": [
    "lb = round(1865*1.01**(-2))\n",
    "ub = round(1865*1.01**2)+1\n",
    "ub"
   ]
  },
  {
   "cell_type": "code",
   "execution_count": null,
   "id": "3357305a-39df-4eca-8b8d-50ab5d7d00a4",
   "metadata": {},
   "outputs": [],
   "source": [
    "dfrs.pivot_table(index=\"sell_price\",columns=[\"second_pay_to_sell\", \"second_pay_from_now\"], values=\"rate_of_return\")"
   ]
  },
  {
   "cell_type": "code",
   "execution_count": null,
   "id": "6bc3c8bc-be23-443a-abe4-477330b80967",
   "metadata": {},
   "outputs": [],
   "source": [
    "filter = (lb<dfrs.sell_price) & (dfrs.sell_price<ub)\n",
    "filter"
   ]
  },
  {
   "cell_type": "code",
   "execution_count": null,
   "id": "bb08b39b-7ffd-4668-8f12-6aad4343af16",
   "metadata": {},
   "outputs": [],
   "source": [
    "dfrs.loc[filter]"
   ]
  },
  {
   "cell_type": "code",
   "execution_count": null,
   "id": "2298f1ba-bc2f-4470-93b1-8188623736fb",
   "metadata": {},
   "outputs": [],
   "source": [
    "# dfrs[filter]"
   ]
  },
  {
   "cell_type": "code",
   "execution_count": null,
   "id": "3f948fc6-27c3-4ed6-9fed-0db6644efcc4",
   "metadata": {},
   "outputs": [],
   "source": [
    "df = pd.DataFrame(RT)"
   ]
  },
  {
   "cell_type": "code",
   "execution_count": null,
   "id": "feba1780-6854-4d11-8bfa-ccd1a93cda21",
   "metadata": {},
   "outputs": [],
   "source": [
    "df"
   ]
  },
  {
   "cell_type": "code",
   "execution_count": null,
   "id": "c5ca6101-f704-40ff-91e7-76dc25a89585",
   "metadata": {
    "jupyter": {
     "source_hidden": true
    }
   },
   "outputs": [],
   "source": [
    "IR_GHESTI = [0.02, 0.025, 0.03, 0.035, 0.04, 0.045, 0.05, 0.055, 0.06]\n",
    "DR = IR_GHESTI\n",
    "\n",
    " \n",
    "class Payment_Plan:\n",
    "\n",
    "    def __init__(self, cash_price, pre_pay=0, periodic_payment=None, n_periods=None, period_length=1,\n",
    "                 discount_rate=0.03, ir=0.04, ir_ghesti=0.035, error=10 ** (-6), rest=1):\n",
    "        self.cash_price = cash_price\n",
    "        self.pre_pay = pre_pay\n",
    "        self.periodic_payment = periodic_payment\n",
    "        self.n_periods = n_periods\n",
    "        self.period_length = period_length\n",
    "        self.error = error\n",
    "        self.rest = rest\n",
    "        self.discount_rate = discount_rate\n",
    "        self.ir = ir\n",
    "        self.ir_ghesti = ir_ghesti\n",
    "        self.loan = self.cash_price - self.pre_pay\n",
    "        self.ghesti_pp = {x: (self.bazar_ghest_calc(r=x), self.pv_of_bazar_ghest(r=x)) for x in IR_GHESTI}\n",
    "\n",
    "    def periodic_pv_calc(self, rest=None, discount_rate=None):\n",
    "        if rest is None:\n",
    "            rest = self.rest\n",
    "\n",
    "        if discount_rate is None:\n",
    "            discount_rate = self.discount_rate\n",
    "\n",
    "        return pv_calc(self.n_periods * [self.periodic_payment], discount_rate, rest)\n",
    "\n",
    "    def IRR_of_ghesti(self, rest=None):\n",
    "        if rest is None:\n",
    "            rest = self.rest\n",
    "\n",
    "        present_value = self.cash_price - self.pre_pay\n",
    "        er = self.error\n",
    "        re = self.rest\n",
    "        return periodic_IRR_calc(self.periodic_payment, self.n_periods, present_value,\n",
    "                                 error=er, rest=re)\n",
    "\n",
    "\n",
    "    def bazar_ghest_calc(self, n_periods=None, r=None, rest=None):\n",
    "        if rest is None:\n",
    "            rest = self.rest\n",
    "\n",
    "        if r is None:\n",
    "            r = self.ir_ghesti\n",
    "\n",
    "        if n_periods is None:\n",
    "            n_periods = self.n_periods\n",
    "\n",
    "        pv = self.cash_price - self.pre_pay\n",
    "\n",
    "        g = (pv + (n_periods + rest - 1) * r * pv) / n_periods\n",
    "        return (n_periods * g, n_periods, g)\n",
    "\n",
    "    def bazar_IRR_calc(self, periodic_payment=None, n_periods=None, rest=None):\n",
    "        if periodic_payment is None:\n",
    "            periodic_payment = self.periodic_payment\n",
    "\n",
    "        if n_periods is None:\n",
    "            n_periods = self.n_periods\n",
    "\n",
    "        if rest is None:\n",
    "            rest = self.rest\n",
    "        loan = self.cash_price - self.pre_pay\n",
    "        repay = n_periods * periodic_payment\n",
    "        irr = (repay - loan) / (loan * (n_periods + rest - 1))\n",
    "        return irr\n",
    "\n",
    "    def pv_of_bazar_ghest(self, n_periods=None, r=None, rest=None, discount_rate=None):\n",
    "\n",
    "        if rest is None:\n",
    "            rest = self.rest\n",
    "\n",
    "        if r is None:\n",
    "            r = self.ir_ghesti\n",
    "\n",
    "        if n_periods is None:\n",
    "            n_periods = self.n_periods\n",
    "\n",
    "        if discount_rate is None:\n",
    "            discount_rate = self.discount_rate\n",
    "\n",
    "        pv = self.cash_price - self.pre_pay\n",
    "\n",
    "        g = self.bazar_ghest_calc(n_periods, r, rest)[-1]\n",
    "        bpv = periodic_pv_calc(g, n_periods, rest, discount_rate)\n",
    "        profit = bpv - pv\n",
    "        profit_ratio = (profit / pv - 1)\n",
    "        real_price = self.pre_pay + bpv\n",
    "        return bpv, bpv/pv"
   ]
  },
  {
   "cell_type": "code",
   "execution_count": null,
   "id": "fbdc2c03-0f1d-42a9-84b1-27f187a08517",
   "metadata": {},
   "outputs": [],
   "source": [
    "import pandas as pd"
   ]
  },
  {
   "cell_type": "code",
   "execution_count": null,
   "id": "9606c6fe-8569-4c90-b947-47c91d5dbaa8",
   "metadata": {
    "collapsed": true,
    "jupyter": {
     "outputs_hidden": true
    }
   },
   "outputs": [],
   "source": [
    "pd.DataFrame?"
   ]
  },
  {
   "cell_type": "code",
   "execution_count": null,
   "id": "d3d22bbc-562d-4fd6-80ec-f911073082f6",
   "metadata": {},
   "outputs": [],
   "source": []
  },
  {
   "cell_type": "code",
   "execution_count": null,
   "id": "4794748a-b174-4b13-be39-29e15b643888",
   "metadata": {},
   "outputs": [],
   "source": []
  },
  {
   "cell_type": "code",
   "execution_count": null,
   "id": "117d4990-6e36-4166-9f1d-b2f945f52e51",
   "metadata": {},
   "outputs": [],
   "source": []
  }
 ],
 "metadata": {
  "kernelspec": {
   "display_name": "canaconda_kernel",
   "language": "python",
   "name": "canaconda_3.12.4_k"
  },
  "language_info": {
   "codemirror_mode": {
    "name": "ipython",
    "version": 3
   },
   "file_extension": ".py",
   "mimetype": "text/x-python",
   "name": "python",
   "nbconvert_exporter": "python",
   "pygments_lexer": "ipython3",
   "version": "3.12.4"
  }
 },
 "nbformat": 4,
 "nbformat_minor": 5
}
