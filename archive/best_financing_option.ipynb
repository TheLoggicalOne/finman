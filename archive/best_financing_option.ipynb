{
 "cells": [
  {
   "cell_type": "markdown",
   "source": [
    "## What is the best financing option for investor?\n",
    " Focus on customer perception of interest \n",
    " Also the fact that many of them see it in a nomoral way"
   ],
   "metadata": {
    "collapsed": false
   },
   "id": "cd9a587dea84144"
  },
  {
   "cell_type": "code",
   "execution_count": 1,
   "outputs": [],
   "source": [
    "import pv_calc"
   ],
   "metadata": {
    "collapsed": false,
    "ExecuteTime": {
     "end_time": "2023-11-28T08:49:27.862427324Z",
     "start_time": "2023-11-28T08:49:27.672451939Z"
    }
   },
   "id": "9d6e751743335508"
  },
  {
   "cell_type": "code",
   "execution_count": 2,
   "outputs": [],
   "source": [
    "a=2"
   ],
   "metadata": {
    "collapsed": false,
    "ExecuteTime": {
     "end_time": "2023-11-28T08:49:36.226350170Z",
     "start_time": "2023-11-28T08:49:36.221663073Z"
    }
   },
   "id": "1559dbb07295dbbc"
  },
  {
   "cell_type": "markdown",
   "source": [
    "### lets focus on p=100m"
   ],
   "metadata": {
    "collapsed": false
   },
   "id": "5609ccb8f1717002"
  },
  {
   "cell_type": "code",
   "execution_count": 6,
   "outputs": [],
   "source": [
    "# for now let:\n",
    "PIP = 0.001\n",
    "N=4\n",
    "NS12 = range(1, 13)\n",
    "NS60_3 = range(3, 61, 3) \n",
    "NS = [1, 2, 3, 4, 5, 6, 8, 10, 12, 15, 18, 21, 24, 30, 36, 48, 60, 72, 84, 96, 108, 120]"
   ],
   "metadata": {
    "collapsed": false,
    "ExecuteTime": {
     "end_time": "2023-11-28T08:59:53.445821859Z",
     "start_time": "2023-11-28T08:59:53.438946585Z"
    }
   },
   "id": "fdd8c1bc2c0f4ca8"
  },
  {
   "cell_type": "code",
   "execution_count": 5,
   "outputs": [
    {
     "data": {
      "text/plain": "[3, 6, 9, 12, 15, 18, 21, 24, 27, 30, 33, 36, 39, 42, 45, 48, 51, 54, 57, 60]"
     },
     "execution_count": 5,
     "metadata": {},
     "output_type": "execute_result"
    }
   ],
   "source": [
    "list(NS60_3)"
   ],
   "metadata": {
    "collapsed": false,
    "ExecuteTime": {
     "end_time": "2023-11-28T08:57:45.371941904Z",
     "start_time": "2023-11-28T08:57:45.344030188Z"
    }
   },
   "id": "d84a55a357840200"
  },
  {
   "cell_type": "code",
   "execution_count": 7,
   "outputs": [
    {
     "data": {
      "text/plain": "22"
     },
     "execution_count": 7,
     "metadata": {},
     "output_type": "execute_result"
    }
   ],
   "source": [
    "len(NS)"
   ],
   "metadata": {
    "collapsed": false,
    "ExecuteTime": {
     "end_time": "2023-11-28T09:00:00.144576752Z",
     "start_time": "2023-11-28T09:00:00.100253625Z"
    }
   },
   "id": "83f92f78c93a9e48"
  },
  {
   "cell_type": "markdown",
   "source": [
    " for given payment plan based on nomoral(or oldbank) calc, what is its value for investor? \n",
    " how should we even define value?\n",
    " - real interest rate he is getting\n",
    "  - compute real pv of payment plan with our real discount rate and compare it with current investment\n",
    "  -  \n",
    "  -  "
   ],
   "metadata": {
    "collapsed": false
   },
   "id": "c488693a196c8fc7"
  },
  {
   "cell_type": "code",
   "execution_count": null,
   "outputs": [],
   "source": [],
   "metadata": {
    "collapsed": false
   },
   "id": "ffbc1f9015ec17e0"
  }
 ],
 "metadata": {
  "kernelspec": {
   "display_name": "Python 3",
   "language": "python",
   "name": "python3"
  },
  "language_info": {
   "codemirror_mode": {
    "name": "ipython",
    "version": 2
   },
   "file_extension": ".py",
   "mimetype": "text/x-python",
   "name": "python",
   "nbconvert_exporter": "python",
   "pygments_lexer": "ipython2",
   "version": "2.7.6"
  }
 },
 "nbformat": 4,
 "nbformat_minor": 5
}
