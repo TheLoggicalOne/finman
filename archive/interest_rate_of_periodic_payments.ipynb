{
 "cells": [
  {
   "cell_type": "code",
   "execution_count": 5,
   "id": "22b636a3daf62365",
   "metadata": {
    "ExecuteTime": {
     "end_time": "2023-11-29T11:57:09.950479667Z",
     "start_time": "2023-11-29T11:57:09.755699133Z"
    },
    "collapsed": false,
    "jupyter": {
     "outputs_hidden": false
    }
   },
   "outputs": [],
   "source": [
    "import numpy as np\n",
    "import matplotlib as mpl\n",
    "import matplotlib.pyplot as plt"
   ]
  },
  {
   "cell_type": "code",
   "execution_count": 6,
   "id": "466678ded37439ae",
   "metadata": {
    "ExecuteTime": {
     "end_time": "2023-11-29T11:57:15.091309456Z",
     "start_time": "2023-11-29T11:57:15.031617142Z"
    },
    "collapsed": false,
    "jupyter": {
     "outputs_hidden": false
    }
   },
   "outputs": [
    {
     "name": "stdout",
     "output_type": "stream",
     "text": [
      "Using matplotlib backend: QtAgg\n"
     ]
    }
   ],
   "source": [
    "%matplotlib\n",
    "%matplotlib inline"
   ]
  },
  {
   "cell_type": "markdown",
   "id": "abb9934b7da592fd",
   "metadata": {
    "collapsed": false,
    "jupyter": {
     "outputs_hidden": false
    }
   },
   "source": [
    "## finding interest rate of periodic payment plan\n",
    "- $p$ : present value\n",
    "- $n$ : number of periods\n",
    "- $r$ : interest per period\n",
    "- $d=\\frac{1}{1+r}$ : discount  multiplier\n",
    "- $m$ : periodic payment\n",
    "\n",
    "we have: \n",
    "$\\frac{m}{P} = \\frac{r}{1 - \\frac{1}{(1+r)^n}}$\n",
    "\n",
    "and \n",
    "$\\frac{P}{m} =\\dfrac{d(1-d^n)}{1-d} =\\dfrac{1-d^n}{r}$\n",
    "\n",
    "let $P/m=a$  \n",
    "\n",
    "the equation equivalent to:\n",
    "\n",
    "$d^n+d^{n-1}+...+d = \\frac{P}{m}$\n",
    "\n",
    "let: $a=\\frac{P}{m}$\n",
    " $f(d) = \\dfrac{d^n+d^{n-1}+...+d}{a}  -1$\n",
    " \n",
    "Note that $d$ is discount factor which has inverse relation with interest rate $r$ through $d=\\frac{1}{1+r}$\n",
    "and $d^{\\prime} = -\\frac{1}{(1+r)^2}$\n",
    "\n",
    "also note that $f(1)=\\dfrac{nm}{p}-1$ (note that this, i.e $d=1$ happens at $r=0$)\n",
    "\n",
    "if $f(1) >0$, everything seems as it should: since our total nominal payment $nm$ must be greater than $P$\n",
    "and if $f(1)<0$ we have problem of having negative interest rate."
   ]
  },
  {
   "cell_type": "markdown",
   "id": "4f2f8a6b07935b70",
   "metadata": {
    "collapsed": false,
    "jupyter": {
     "outputs_hidden": false
    }
   },
   "source": []
  },
  {
   "cell_type": "markdown",
   "id": "1e520e8c66c3ca20",
   "metadata": {
    "collapsed": false,
    "jupyter": {
     "outputs_hidden": false
    }
   },
   "source": [
    "## What is $f(d)$ conceptually? how can we relate it to any value or monetary concept?\n",
    "Let consider profit of investor, as present value of investor cashflow, call it PVPI\n",
    "$PVPI = \\sum_{i=1}^n m*d^i - P = P*[\\dfrac{\\sum_{i=1}^n d^i}{\\frac{P}{m}}-1] = P*[\\dfrac{\\sum_{i=1}^n d^i}{a}-1] = P*f(d)$\n",
    "So $f(d)$ is exactly equivalent to investor profit per unit of investment. \n",
    "This make it even more great to work with P=1. (WLOG, because of linearity w.r.t P) "
   ]
  },
  {
   "cell_type": "markdown",
   "id": "7abcf28beb6a321a",
   "metadata": {
    "collapsed": false,
    "jupyter": {
     "outputs_hidden": false
    }
   },
   "source": [
    "For fix $P, m, n$ Note that $f(d)$ is increasing function of $d$ and decreasing function of $r$ \n",
    "\n",
    "Now we can say if $f(1)<0$ , means that best case scenario for investor ($r=0$) is still losing\n",
    " money so actually no investor would accept such a payment plan.\n",
    " "
   ]
  },
  {
   "cell_type": "markdown",
   "id": "2f40152055307d56",
   "metadata": {
    "collapsed": false,
    "jupyter": {
     "outputs_hidden": false
    }
   },
   "source": [
    "## finding the root\n",
    "we should solve $f(d)=0$. write this as follows:\n",
    "$a*f(d)=0$ or\n",
    "$\\sum_{i=1}^n d^i -a =0$\n",
    "\n",
    "Also note that $PVIP = P*f(d) = \\frac{P}{a} * (a * f(d)) = m * (a * f(d))$\n",
    "\n",
    "So $PVIP = m * (\\sum_{i=1}^n d^i -a)$ \n",
    " or\n",
    " $\\sum_{i=1}^n d^i -a = \\frac{1}{m}* PVIP$ \n",
    " \n",
    "this means that RHS of equation $\\sum_{i=1}^n d^i -a =0$ is investor profit is divided by $m$.\n",
    "From this we can decide how much error is tolerated and how exact we need to find $d$ , solution of this equation\n",
    "\n",
    "so for each given $P$ and $m$ and $n$ we need to find $d$ such that  $\\sum_{i=1}^n d^i = a = \\frac{P}{m}$.\n",
    "Let $g(d)=\\sum_{i=1}^n d^i$  Note that $g$ is increasing in $d$. \n",
    "So if we start from $d=1$ and decrease $d$ toward zero, $g(d)$ decrease from $n$ toward 0.\n",
    "But values of $d$ closer to $d=1$ are more important, more common and more natural! "
   ]
  },
  {
   "cell_type": "markdown",
   "id": "107fa0f36ddcf8a3",
   "metadata": {
    "collapsed": false,
    "jupyter": {
     "outputs_hidden": false
    }
   },
   "source": []
  },
  {
   "cell_type": "code",
   "execution_count": 7,
   "id": "4e273808701acf28",
   "metadata": {
    "ExecuteTime": {
     "end_time": "2023-11-29T11:57:28.719104868Z",
     "start_time": "2023-11-29T11:57:28.595622500Z"
    },
    "collapsed": false,
    "jupyter": {
     "outputs_hidden": false
    }
   },
   "outputs": [
    {
     "data": {
      "text/plain": [
       "[<matplotlib.lines.Line2D at 0x762e41d88860>]"
      ]
     },
     "execution_count": 7,
     "metadata": {},
     "output_type": "execute_result"
    },
    {
     "data": {
      "image/png": "[encoded data removed]",
      "text/plain": [
       "<Figure size 640x480 with 1 Axes>"
      ]
     },
     "metadata": {},
     "output_type": "display_data"
    }
   ],
   "source": [
    "# Lets draw some values of d vs corresponding r\n",
    "\n",
    "rps = np.linspace(0, 100, 201)\n",
    "rs = rps/100\n",
    "ds = 1/(1+rs)\n",
    "plt.plot(rs, ds)"
   ]
  },
  {
   "cell_type": "markdown",
   "id": "55df747d98d806e9",
   "metadata": {
    "collapsed": false,
    "jupyter": {
     "outputs_hidden": false
    }
   },
   "source": [
    "So even for $r=1$, i.e `100%` interest rate $d$ is higher than $0.5$\n",
    "So we could pre compute values of $g(d)$ for different $d$s for each given $n$\n"
   ]
  },
  {
   "cell_type": "markdown",
   "id": "b32a111e2ea0816a",
   "metadata": {
    "collapsed": false,
    "jupyter": {
     "outputs_hidden": false
    }
   },
   "source": [
    "Focus on $g(d) = \\dfrac{d-d^{n+1}}{1-d}$. To be able to compute $g(d)$s for different $d$s and $n$s\n",
    "we only need to compute $d^n$ for different $d$s and $n$s\n",
    "Also note that powers of numbers might be useful for many other computations.\n",
    "So we would like to have pre computed $d^n$ for some different(typical!?) values \n",
    "of $d$ and $n$ \n"
   ]
  },
  {
   "cell_type": "markdown",
   "id": "ddfdac0650769068",
   "metadata": {
    "collapsed": false,
    "jupyter": {
     "outputs_hidden": false
    }
   },
   "source": [
    "In case of are computation here, for each $n$ same computation is done for all \n",
    "different values of $d$. This most likely will be the case for many other situations\n",
    "as well.\n",
    "So let us create a vector $ds$ of different(usual) values of $d$\n",
    "Then compute $ds^n$ for different values (usual) of $n$. \n",
    "Let say we have $n_n$ different values for $n$ and $n_d$ be the number of different\n",
    " values for $d$.\n",
    " We create a `n_n * n_d` numpy array by stacking $n_n$ copies of $ds$ on top of each other\n",
    " Call this numpy array $D$. From $D$ we can get powers of $ds$ by `np.cumprod`\n",
    " "
   ]
  },
  {
   "cell_type": "code",
   "execution_count": 8,
   "id": "8318df0d5400b655",
   "metadata": {
    "ExecuteTime": {
     "end_time": "2023-11-29T11:57:35.870878934Z",
     "start_time": "2023-11-29T11:57:35.861592440Z"
    },
    "collapsed": false,
    "jupyter": {
     "outputs_hidden": false
    }
   },
   "outputs": [
    {
     "data": {
      "text/plain": [
       "28.8"
      ]
     },
     "execution_count": 8,
     "metadata": {},
     "output_type": "execute_result"
    }
   ],
   "source": [
    "# Estimating size of data\n",
    "n_n=360\n",
    "n_d= 100 * 100\n",
    "bu = 8\n",
    "total_bytes = n_n * n_d * bu\n",
    "total_bytes_MG = total_bytes/10**6\n",
    "total_bytes_MG"
   ]
  },
  {
   "cell_type": "code",
   "execution_count": 168,
   "id": "386b53c7b21be9c1",
   "metadata": {
    "ExecuteTime": {
     "end_time": "2023-11-29T11:57:41.526812367Z",
     "start_time": "2023-11-29T11:57:41.469278633Z"
    },
    "collapsed": false,
    "jupyter": {
     "outputs_hidden": false
    }
   },
   "outputs": [
    {
     "data": {
      "text/plain": [
       "(1, 10000)"
      ]
     },
     "execution_count": 168,
     "metadata": {},
     "output_type": "execute_result"
    }
   ],
   "source": [
    "# create vector of n's, called ns and vector of d's called ds\n",
    "ns_old = [1, 2, 3, 4, 5, 6, 7, 8, 9, 10, 11, 12, \n",
    "      15, 18, 21, 24, \n",
    "      30, 36,\n",
    "      48, 60, 72, 84, 96, 108, 120]\n",
    "\n",
    "ns = np.arange(1, n_n+1)\n",
    "PIP = 10**(-4)\n",
    "dis = list(range(10**4))\n",
    "ds = PIP*np.array(dis)\n",
    "ds = ds[np.newaxis,:]\n",
    "ds.shape"
   ]
  },
  {
   "cell_type": "code",
   "execution_count": 169,
   "id": "5989e4b2-4a5d-4048-8083-c1e1c34ee8b1",
   "metadata": {},
   "outputs": [
    {
     "data": {
      "text/plain": [
       "array([[0.000e+00, 1.000e-04, 2.000e-04, ..., 9.997e-01, 9.998e-01,\n",
       "        9.999e-01]])"
      ]
     },
     "execution_count": 169,
     "metadata": {},
     "output_type": "execute_result"
    }
   ],
   "source": [
    "ds"
   ]
  },
  {
   "cell_type": "code",
   "execution_count": 170,
   "id": "c37bf99ed4550c93",
   "metadata": {
    "ExecuteTime": {
     "end_time": "2023-11-29T11:57:44.240494976Z",
     "start_time": "2023-11-29T11:57:44.226372403Z"
    },
    "collapsed": false,
    "jupyter": {
     "outputs_hidden": false
    }
   },
   "outputs": [
    {
     "data": {
      "text/plain": [
       "(360, 10000)"
      ]
     },
     "execution_count": 170,
     "metadata": {},
     "output_type": "execute_result"
    }
   ],
   "source": [
    "D=np.concatenate([ds for i in range(len(ns))], axis=0)\n",
    "D.shape"
   ]
  },
  {
   "cell_type": "code",
   "execution_count": 171,
   "id": "8fe81ab8-713f-4d04-acf0-5a46fccea885",
   "metadata": {},
   "outputs": [
    {
     "data": {
      "text/plain": [
       "array([[0.000e+00, 1.000e-04, 2.000e-04, ..., 9.997e-01, 9.998e-01,\n",
       "        9.999e-01],\n",
       "       [0.000e+00, 1.000e-04, 2.000e-04, ..., 9.997e-01, 9.998e-01,\n",
       "        9.999e-01],\n",
       "       [0.000e+00, 1.000e-04, 2.000e-04, ..., 9.997e-01, 9.998e-01,\n",
       "        9.999e-01],\n",
       "       ...,\n",
       "       [0.000e+00, 1.000e-04, 2.000e-04, ..., 9.997e-01, 9.998e-01,\n",
       "        9.999e-01],\n",
       "       [0.000e+00, 1.000e-04, 2.000e-04, ..., 9.997e-01, 9.998e-01,\n",
       "        9.999e-01],\n",
       "       [0.000e+00, 1.000e-04, 2.000e-04, ..., 9.997e-01, 9.998e-01,\n",
       "        9.999e-01]])"
      ]
     },
     "execution_count": 171,
     "metadata": {},
     "output_type": "execute_result"
    }
   ],
   "source": [
    "D"
   ]
  },
  {
   "cell_type": "code",
   "execution_count": 172,
   "id": "42080db93e13dee9",
   "metadata": {
    "ExecuteTime": {
     "end_time": "2023-11-29T11:57:46.072153801Z",
     "start_time": "2023-11-29T11:57:46.043288112Z"
    },
    "collapsed": false,
    "jupyter": {
     "outputs_hidden": false
    }
   },
   "outputs": [
    {
     "data": {
      "text/plain": [
       "(360, 10000)"
      ]
     },
     "execution_count": 172,
     "metadata": {},
     "output_type": "execute_result"
    }
   ],
   "source": [
    "D_powers = np.cumprod(D, axis=0)\n",
    "D_powers.shape"
   ]
  },
  {
   "cell_type": "code",
   "execution_count": 173,
   "id": "077eaa41-1418-48f5-bed8-366d4ed159c8",
   "metadata": {
    "scrolled": true
   },
   "outputs": [
    {
     "data": {
      "text/plain": [
       "array([0.9999    , 0.99980001, 0.99970003, 0.99960006, 0.9995001 ,\n",
       "       0.99940015, 0.99930021, 0.99920028, 0.99910036, 0.99900045,\n",
       "       0.99890055, 0.99880066, 0.99870078, 0.99860091, 0.99850105,\n",
       "       0.9984012 , 0.99830136, 0.99820153, 0.99810171, 0.9980019 ,\n",
       "       0.9979021 , 0.99780231, 0.99770253, 0.99760276, 0.997503  ,\n",
       "       0.99740325, 0.99730351, 0.99720378, 0.99710406, 0.99700435,\n",
       "       0.99690465, 0.99680496, 0.99670527, 0.9966056 , 0.99650594,\n",
       "       0.99640629, 0.99630665, 0.99620702, 0.9961074 , 0.99600779,\n",
       "       0.99590819, 0.9958086 , 0.99570902, 0.99560945, 0.99550989,\n",
       "       0.99541033, 0.99531079, 0.99521126, 0.99511174, 0.99501223,\n",
       "       0.99491273, 0.99481324, 0.99471376, 0.99461429, 0.99451482,\n",
       "       0.99441537, 0.99431593, 0.9942165 , 0.99411708, 0.99401767,\n",
       "       0.99391826, 0.99381887, 0.99371949, 0.99362012, 0.99352076,\n",
       "       0.9934214 , 0.99332206, 0.99322273, 0.99312341, 0.9930241 ,\n",
       "       0.99292479, 0.9928255 , 0.99272622, 0.99262695, 0.99252768,\n",
       "       0.99242843, 0.99232919, 0.99222995, 0.99213073, 0.99203152,\n",
       "       0.99193231, 0.99183312, 0.99173394, 0.99163476, 0.9915356 ,\n",
       "       0.99143645, 0.9913373 , 0.99123817, 0.99113905, 0.99103993,\n",
       "       0.99094083, 0.99084173, 0.99074265, 0.99064358, 0.99054451,\n",
       "       0.99044546, 0.99034641, 0.99024738, 0.99014835, 0.99004934,\n",
       "       0.98995033, 0.98985134, 0.98975235, 0.98965338, 0.98955441,\n",
       "       0.98945546, 0.98935651, 0.98925758, 0.98915865, 0.98905973,\n",
       "       0.98896083, 0.98886193, 0.98876305, 0.98866417, 0.9885653 ,\n",
       "       0.98846645, 0.9883676 , 0.98826876, 0.98816994, 0.98807112,\n",
       "       0.98797231, 0.98787352, 0.98777473, 0.98767595, 0.98757718,\n",
       "       0.98747843, 0.98737968, 0.98728094, 0.98718221, 0.98708349,\n",
       "       0.98698479, 0.98688609, 0.9867874 , 0.98668872, 0.98659005,\n",
       "       0.98649139, 0.98639274, 0.9862941 , 0.98619547, 0.98609685,\n",
       "       0.98599824, 0.98589964, 0.98580105, 0.98570247, 0.9856039 ,\n",
       "       0.98550534, 0.98540679, 0.98530825, 0.98520972, 0.9851112 ,\n",
       "       0.98501269, 0.98491419, 0.9848157 , 0.98471722, 0.98461874,\n",
       "       0.98452028, 0.98442183, 0.98432339, 0.98422496, 0.98412653,\n",
       "       0.98402812, 0.98392972, 0.98383132, 0.98373294, 0.98363457,\n",
       "       0.9835362 , 0.98343785, 0.98333951, 0.98324117, 0.98314285,\n",
       "       0.98304453, 0.98294623, 0.98284794, 0.98274965, 0.98265138,\n",
       "       0.98255311, 0.98245486, 0.98235661, 0.98225837, 0.98216015,\n",
       "       0.98206193, 0.98196373, 0.98186553, 0.98176734, 0.98166917,\n",
       "       0.981571  , 0.98147284, 0.9813747 , 0.98127656, 0.98117843,\n",
       "       0.98108031, 0.9809822 , 0.98088411, 0.98078602, 0.98068794,\n",
       "       0.98058987, 0.98049181, 0.98039376, 0.98029572, 0.98019769,\n",
       "       0.98009967, 0.98000166, 0.97990366, 0.97980567, 0.97970769,\n",
       "       0.97960972, 0.97951176, 0.97941381, 0.97931587, 0.97921794,\n",
       "       0.97912001, 0.9790221 , 0.9789242 , 0.97882631, 0.97872843,\n",
       "       0.97863055, 0.97853269, 0.97843484, 0.97833699, 0.97823916,\n",
       "       0.97814133, 0.97804352, 0.97794572, 0.97784792, 0.97775014,\n",
       "       0.97765236, 0.9775546 , 0.97745684, 0.9773591 , 0.97726136,\n",
       "       0.97716363, 0.97706592, 0.97696821, 0.97687051, 0.97677283,\n",
       "       0.97667515, 0.97657748, 0.97647982, 0.97638218, 0.97628454,\n",
       "       0.97618691, 0.97608929, 0.97599168, 0.97589408, 0.97579649,\n",
       "       0.97569891, 0.97560134, 0.97550378, 0.97540623, 0.97530869,\n",
       "       0.97521116, 0.97511364, 0.97501613, 0.97491863, 0.97482114,\n",
       "       0.97472365, 0.97462618, 0.97452872, 0.97443127, 0.97433382,\n",
       "       0.97423639, 0.97413897, 0.97404155, 0.97394415, 0.97384675,\n",
       "       0.97374937, 0.97365199, 0.97355463, 0.97345727, 0.97335993,\n",
       "       0.97326259, 0.97316527, 0.97306795, 0.97297064, 0.97287334,\n",
       "       0.97277606, 0.97267878, 0.97258151, 0.97248425, 0.97238701,\n",
       "       0.97228977, 0.97219254, 0.97209532, 0.97199811, 0.97190091,\n",
       "       0.97180372, 0.97170654, 0.97160937, 0.97151221, 0.97141506,\n",
       "       0.97131791, 0.97122078, 0.97112366, 0.97102655, 0.97092945,\n",
       "       0.97083235, 0.97073527, 0.9706382 , 0.97054113, 0.97044408,\n",
       "       0.97034703, 0.97025   , 0.97015297, 0.97005596, 0.96995895,\n",
       "       0.96986196, 0.96976497, 0.96966799, 0.96957103, 0.96947407,\n",
       "       0.96937712, 0.96928019, 0.96918326, 0.96908634, 0.96898943,\n",
       "       0.96889253, 0.96879564, 0.96869876, 0.96860189, 0.96850503,\n",
       "       0.96840818, 0.96831134, 0.96821451, 0.96811769, 0.96802088,\n",
       "       0.96792407, 0.96782728, 0.9677305 , 0.96763373, 0.96753696,\n",
       "       0.96744021, 0.96734347, 0.96724673, 0.96715001, 0.96705329,\n",
       "       0.96695659, 0.96685989, 0.9667632 , 0.96666653, 0.96656986,\n",
       "       0.9664732 , 0.96637656, 0.96627992, 0.96618329, 0.96608667,\n",
       "       0.96599006, 0.96589347, 0.96579688, 0.9657003 , 0.96560373,\n",
       "       0.96550717, 0.96541062, 0.96531407, 0.96521754, 0.96512102,\n",
       "       0.96502451, 0.96492801, 0.96483151, 0.96473503, 0.96463856])"
      ]
     },
     "execution_count": 173,
     "metadata": {},
     "output_type": "execute_result"
    }
   ],
   "source": [
    "D_powers[:,-1]"
   ]
  },
  {
   "cell_type": "code",
   "execution_count": 174,
   "id": "89ce9057fddafaa5",
   "metadata": {
    "ExecuteTime": {
     "end_time": "2023-11-29T11:57:47.718782643Z",
     "start_time": "2023-11-29T11:57:47.676058840Z"
    },
    "collapsed": false,
    "jupyter": {
     "outputs_hidden": false
    }
   },
   "outputs": [
    {
     "data": {
      "text/plain": [
       "(360, 10000)"
      ]
     },
     "execution_count": 174,
     "metadata": {},
     "output_type": "execute_result"
    }
   ],
   "source": [
    "# first way of computing g(d), through g(d) = d+d^2+...+d^n\n",
    "D_powers_cumsums = np.cumsum(D_powers, axis=0)\n",
    "D_powers_cumsums.shape"
   ]
  },
  {
   "cell_type": "code",
   "execution_count": 175,
   "id": "95ef63adbfbb0bd9",
   "metadata": {
    "ExecuteTime": {
     "end_time": "2023-11-29T11:57:50.775767575Z",
     "start_time": "2023-11-29T11:57:50.669927741Z"
    },
    "collapsed": false,
    "jupyter": {
     "outputs_hidden": false
    }
   },
   "outputs": [],
   "source": [
    "# another way of computing g(d), through g(d) = (d-d^{n+1}) / (1-d)\n",
    "A = (D - D_powers*ds)/(1-ds)"
   ]
  },
  {
   "cell_type": "code",
   "execution_count": 176,
   "id": "cdfdae021e0e0180",
   "metadata": {
    "ExecuteTime": {
     "end_time": "2023-11-29T11:58:09.585625663Z",
     "start_time": "2023-11-29T11:58:09.546539551Z"
    },
    "collapsed": false,
    "jupyter": {
     "outputs_hidden": false
    }
   },
   "outputs": [],
   "source": [
    "# computing absolute error between two ways of computing\n",
    "gd_abs_error = D_powers_cumsums - A"
   ]
  },
  {
   "cell_type": "code",
   "execution_count": 177,
   "id": "303b0ef83a3c27c8",
   "metadata": {
    "ExecuteTime": {
     "end_time": "2023-11-29T11:58:20.140306520Z",
     "start_time": "2023-11-29T11:58:20.090989519Z"
    },
    "collapsed": false,
    "jupyter": {
     "outputs_hidden": false
    }
   },
   "outputs": [
    {
     "data": {
      "text/plain": [
       "3.893774191965349e-12"
      ]
     },
     "execution_count": 177,
     "metadata": {},
     "output_type": "execute_result"
    }
   ],
   "source": [
    "np.max(gd_abs_error)"
   ]
  },
  {
   "cell_type": "code",
   "execution_count": 178,
   "id": "fd4f0447249b6310",
   "metadata": {
    "ExecuteTime": {
     "end_time": "2023-11-29T11:58:30.289643439Z",
     "start_time": "2023-11-29T11:58:30.269387029Z"
    },
    "collapsed": false,
    "jupyter": {
     "outputs_hidden": false
    }
   },
   "outputs": [
    {
     "data": {
      "text/plain": [
       "28.8"
      ]
     },
     "execution_count": 178,
     "metadata": {},
     "output_type": "execute_result"
    }
   ],
   "source": [
    "D_powers.nbytes/10**6"
   ]
  },
  {
   "cell_type": "code",
   "execution_count": 181,
   "id": "88aa6bc4d54ad868",
   "metadata": {
    "ExecuteTime": {
     "end_time": "2023-11-29T11:58:32.679407216Z",
     "start_time": "2023-11-29T11:58:32.667470551Z"
    },
    "collapsed": false,
    "jupyter": {
     "outputs_hidden": false
    }
   },
   "outputs": [
    {
     "data": {
      "text/plain": [
       "(360, 10000)"
      ]
     },
     "execution_count": 181,
     "metadata": {},
     "output_type": "execute_result"
    }
   ],
   "source": [
    "DPS = D_powers_cumsums\n",
    "DPS.shape"
   ]
  },
  {
   "cell_type": "code",
   "execution_count": 182,
   "id": "93fabf686f393fd5",
   "metadata": {
    "ExecuteTime": {
     "end_time": "2023-11-29T12:03:05.266596037Z",
     "start_time": "2023-11-29T12:03:05.247110995Z"
    },
    "collapsed": false,
    "jupyter": {
     "outputs_hidden": false
    }
   },
   "outputs": [
    {
     "data": {
      "text/plain": [
       "(360, 9999)"
      ]
     },
     "execution_count": 182,
     "metadata": {},
     "output_type": "execute_result"
    }
   ],
   "source": [
    "# additive delta from given column to next column, given value of d, to next value of d\n",
    "delta_DPS = DPS[:, 1:] - DPS[:, :-1]\n",
    "delta_DPS.shape"
   ]
  },
  {
   "cell_type": "code",
   "execution_count": 183,
   "id": "c47ba4f8d5ac42a7",
   "metadata": {
    "ExecuteTime": {
     "end_time": "2023-11-29T11:58:46.471682071Z",
     "start_time": "2023-11-29T11:58:46.417340463Z"
    },
    "collapsed": false,
    "jupyter": {
     "outputs_hidden": false
    }
   },
   "outputs": [
    {
     "data": {
      "text/plain": [
       "(360, 9999)"
      ]
     },
     "execution_count": 183,
     "metadata": {},
     "output_type": "execute_result"
    }
   ],
   "source": [
    "# multiplicative delta from given column to next column, given value of d, to next value of d\n",
    "geo_delta_DPS = delta_DPS / DPS[:, 1:]\n",
    "geo_delta_DPS.shape"
   ]
  },
  {
   "cell_type": "code",
   "execution_count": 35,
   "id": "6554e46c48d6aee4",
   "metadata": {
    "ExecuteTime": {
     "end_time": "2023-11-29T13:13:37.522062606Z",
     "start_time": "2023-11-29T13:13:37.473685329Z"
    },
    "collapsed": false,
    "jupyter": {
     "outputs_hidden": false
    }
   },
   "outputs": [],
   "source": [
    "def my_range(*, arr=None, lower_row=None, upper_row=None, \n",
    "             lower_col=None, upper_col=None, \n",
    "             return_args=False):\n",
    "      arr_r = arr[lower_row:upper_row, lower_col:upper_col]\n",
    "      extremes = (np.min(arr_r) , np.max(arr_r))\n",
    "      if return_args:\n",
    "          # here I will add computation of argmin and argmax \n",
    "          arg_min_flat = np.argmin(arr_r)\n",
    "          arg_min_r = (arg_min_flat // arr_r.shape[1], arg_min_flat % arr_r.shape[1]) #\n",
    "          arg_min = (arg_min_r[0]+lower_row, arg_min_r[1]+lower_col)\n",
    "          \n",
    "          arg_max_flat = np.argmax(arr_r)\n",
    "          arg_max_r = (arg_max_flat // arr_r.shape[1], arg_max_flat % arr_r.shape[1])\n",
    "          arg_max = (arg_max_r[0]+lower_row, arg_max_r[1]+lower_col)\n",
    "          dic_r = {'min':extremes[0], 'max':extremes[1],\n",
    "                   'argmin': arg_min, 'argmax': arg_max}\n",
    "          return dic_r\n",
    "      else:\n",
    "          return extremes"
   ]
  },
  {
   "cell_type": "code",
   "execution_count": 31,
   "id": "8376dac3de9515f4",
   "metadata": {
    "ExecuteTime": {
     "end_time": "2023-11-29T12:27:50.513694473Z",
     "start_time": "2023-11-29T12:27:50.451190235Z"
    },
    "collapsed": false,
    "jupyter": {
     "outputs_hidden": false
    }
   },
   "outputs": [
    {
     "data": {
      "text/plain": [
       "(120, 9899)"
      ]
     },
     "execution_count": 31,
     "metadata": {},
     "output_type": "execute_result"
    }
   ],
   "source": []
  },
  {
   "cell_type": "code",
   "execution_count": 38,
   "id": "ce11e4d80a92f2d2",
   "metadata": {
    "ExecuteTime": {
     "end_time": "2023-11-29T13:15:32.927436064Z",
     "start_time": "2023-11-29T13:15:32.880549987Z"
    },
    "collapsed": false,
    "jupyter": {
     "outputs_hidden": false
    }
   },
   "outputs": [],
   "source": [
    "# what is max delta, on a sub array, since for first ...\n",
    "cols_lower = 100\n",
    "cols_upper = n_d\n",
    "\n",
    "row_lower = 0\n",
    "row_upper = 120\n",
    "\n",
    "ddd = my_range(arr=delta_DPS, lower_row=row_lower, upper_row=row_upper, \n",
    "         lower_col=cols_lower, upper_col=cols_upper,\n",
    "              return_args=True\n",
    "         )"
   ]
  },
  {
   "cell_type": "code",
   "execution_count": 39,
   "id": "7d894b7a-ae8a-42b4-ba04-0d98ef99b090",
   "metadata": {},
   "outputs": [
    {
     "data": {
      "text/plain": [
       "{'min': 9.999999999998899e-05,\n",
       " 'max': 0.7174197708685597,\n",
       " 'argmin': (0, 628),\n",
       " 'argmax': (119, 9998)}"
      ]
     },
     "execution_count": 39,
     "metadata": {},
     "output_type": "execute_result"
    }
   ],
   "source": [
    "ddd"
   ]
  },
  {
   "cell_type": "code",
   "execution_count": 146,
   "id": "2b469e0d4ed9db22",
   "metadata": {
    "ExecuteTime": {
     "end_time": "2023-11-29T13:14:38.468346526Z",
     "start_time": "2023-11-29T13:14:38.436433480Z"
    },
    "collapsed": false,
    "jupyter": {
     "outputs_hidden": false
    }
   },
   "outputs": [
    {
     "data": {
      "text/plain": [
       "{'min': 0.000100010001000089,\n",
       " 'max': 0.010001000100009988,\n",
       " 'argmin': (0, 9998),\n",
       " 'argmax': (7, 100)}"
      ]
     },
     "execution_count": 146,
     "metadata": {},
     "output_type": "execute_result"
    }
   ],
   "source": [
    "# what is max geo_delta, on a sub array, since for first ...\n",
    "cols_lower_geo = 100\n",
    "cols_upper_geo = n_d\n",
    "\n",
    "row_lower_geo = 0\n",
    "row_upper_geo = 120\n",
    "\n",
    "my_range(arr=geo_delta_DPS, lower_row=row_lower_geo,  upper_row=row_upper_geo, \n",
    "         lower_col=cols_lower_geo, upper_col=cols_upper_geo,\n",
    "         return_args=True\n",
    "         )"
   ]
  },
  {
   "cell_type": "code",
   "execution_count": 154,
   "id": "819d7629-4fc1-4841-85ad-1f7a95fcc2fb",
   "metadata": {},
   "outputs": [
    {
     "data": {
      "text/plain": [
       "{'min': 0.0001500075003750934,\n",
       " 'max': 0.010001000100009988,\n",
       " 'argmin': (1, 9998),\n",
       " 'argmax': (7, 100)}"
      ]
     },
     "execution_count": 154,
     "metadata": {},
     "output_type": "execute_result"
    }
   ],
   "source": [
    "my_range(arr=geo_delta_DPS, lower_row=1,  upper_row=120, \n",
    "         lower_col=100, upper_col=n_d,\n",
    "         return_args=True\n",
    "         )"
   ]
  },
  {
   "cell_type": "code",
   "execution_count": 45,
   "id": "c5860e4d16675a00",
   "metadata": {
    "collapsed": false,
    "jupyter": {
     "outputs_hidden": false
    }
   },
   "outputs": [
    {
     "data": {
      "text/plain": [
       "(360, 9999)"
      ]
     },
     "execution_count": 45,
     "metadata": {},
     "output_type": "execute_result"
    }
   ],
   "source": [
    "nd = geo_delta_DPS\n",
    "nd.shape"
   ]
  },
  {
   "cell_type": "code",
   "execution_count": 108,
   "id": "e3a386e8-f146-466b-932b-75813c5dc372",
   "metadata": {},
   "outputs": [
    {
     "data": {
      "text/plain": [
       "array([0.    , 0.0001, 0.0002, 0.0003, 0.0004])"
      ]
     },
     "execution_count": 108,
     "metadata": {},
     "output_type": "execute_result"
    }
   ],
   "source": [
    "DPS[0,0:5]"
   ]
  },
  {
   "cell_type": "code",
   "execution_count": 107,
   "id": "72dc1bcd-6484-4a37-b092-2a4ee8b364c9",
   "metadata": {},
   "outputs": [
    {
     "data": {
      "text/plain": [
       "array([1.e-04, 1.e-04, 1.e-04, 1.e-04, 1.e-04])"
      ]
     },
     "execution_count": 107,
     "metadata": {},
     "output_type": "execute_result"
    }
   ],
   "source": [
    "delta_DPS[0,0:5]"
   ]
  },
  {
   "cell_type": "code",
   "execution_count": 113,
   "id": "587dbb46-4593-4737-b5da-07825fc14875",
   "metadata": {},
   "outputs": [
    {
     "data": {
      "text/plain": [
       "array([0.00020036, 0.00020032, 0.00020028, 0.00020024, 0.0002002 ,\n",
       "       0.00020016, 0.00020012, 0.00020008, 0.00020004, 0.0002    ,\n",
       "       0.00019996, 0.00019992, 0.00019988, 0.00019984, 0.0001998 ,\n",
       "       0.00019976, 0.00019972, 0.00019968, 0.00019964, 0.0001996 ])"
      ]
     },
     "execution_count": 113,
     "metadata": {},
     "output_type": "execute_result"
    }
   ],
   "source": [
    "geo_delta_DPS[0,4990:5010]"
   ]
  },
  {
   "cell_type": "code",
   "execution_count": 114,
   "id": "0a0cf59c-a986-466f-bcf3-93eed39a7128",
   "metadata": {},
   "outputs": [
    {
     "data": {
      "text/plain": [
       "array([0.00020036, 0.00020032, 0.00020028, 0.00020024, 0.0002002 ,\n",
       "       0.00020016, 0.00020012, 0.00020008, 0.00020004, 0.0002    ,\n",
       "       0.00019996, 0.00019992, 0.00019988, 0.00019984, 0.0001998 ,\n",
       "       0.00019976, 0.00019972, 0.00019968, 0.00019964, 0.0001996 ])"
      ]
     },
     "execution_count": 114,
     "metadata": {},
     "output_type": "execute_result"
    }
   ],
   "source": [
    "nd[0,4990:5010]"
   ]
  },
  {
   "cell_type": "code",
   "execution_count": 118,
   "id": "6398215d-10d1-45b4-814d-9e16e0e36640",
   "metadata": {},
   "outputs": [
    {
     "data": {
      "text/plain": [
       "(9999,)"
      ]
     },
     "execution_count": 118,
     "metadata": {},
     "output_type": "execute_result"
    }
   ],
   "source": [
    "nd_max_0 = np.max(nd, axis=0)\n",
    "nd_max_0.shape"
   ]
  },
  {
   "cell_type": "code",
   "execution_count": 139,
   "id": "35f8352d-3d78-44cd-9828-407712fdda8c",
   "metadata": {},
   "outputs": [
    {
     "data": {
      "text/plain": [
       "array([0.00039993, 0.00039994, 0.00039994, 0.00039994, 0.00039994,\n",
       "       0.00039994, 0.00039994, 0.00039994, 0.00039994, 0.00039994])"
      ]
     },
     "execution_count": 139,
     "metadata": {},
     "output_type": "execute_result"
    }
   ],
   "source": [
    "k=5030\n",
    "d=10\n",
    "\n",
    "nd_max_0[k:k+d]"
   ]
  },
  {
   "cell_type": "code",
   "execution_count": 144,
   "id": "4a422533-9fc5-47e9-8f26-b5392b3e58b5",
   "metadata": {},
   "outputs": [
    {
     "data": {
      "text/plain": [
       "[<matplotlib.lines.Line2D at 0x728fb1c88740>]"
      ]
     },
     "execution_count": 144,
     "metadata": {},
     "output_type": "execute_result"
    },
    {
     "data": {
      "image/png": "[encoded data removed]",
      "text/plain": [
       "<Figure size 640x480 with 1 Axes>"
      ]
     },
     "metadata": {},
     "output_type": "display_data"
    }
   ],
   "source": [
    "plt.plot(nd_max_0[9000:10000])"
   ]
  },
  {
   "cell_type": "code",
   "execution_count": null,
   "id": "441527ae-438a-46d5-aba7-5b50b443285e",
   "metadata": {},
   "outputs": [],
   "source": []
  }
 ],
 "metadata": {
  "kernelspec": {
   "display_name": "canaconda_kernel",
   "language": "python",
   "name": "canaconda_3.12.4_k"
  },
  "language_info": {
   "codemirror_mode": {
    "name": "ipython",
    "version": 3
   },
   "file_extension": ".py",
   "mimetype": "text/x-python",
   "name": "python",
   "nbconvert_exporter": "python",
   "pygments_lexer": "ipython3",
   "version": "3.12.4"
  }
 },
 "nbformat": 4,
 "nbformat_minor": 5
}
