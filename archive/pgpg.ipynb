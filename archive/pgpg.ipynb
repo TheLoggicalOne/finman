{
 "cells": [
  {
   "cell_type": "code",
   "execution_count": 1,
   "id": "9302ab42",
   "metadata": {},
   "outputs": [
    {
     "name": "stdout",
     "output_type": "stream",
     "text": [
      "Hello, Alice!\n",
      "Hi, Bob!\n",
      "Hey, Charlie!\n"
     ]
    }
   ],
   "source": [
    "def greet(name, greeting):\n",
    "    print(f\"{greeting}, {name}!\")\n",
    "\n",
    "greet(\"Alice\", \"Hello\")               # Positional\n",
    "greet(name=\"Bob\", greeting=\"Hi\")      # Keyword\n",
    "greet(\"Charlie\", greeting=\"Hey\")      # Mixed\n"
   ]
  },
  {
   "cell_type": "code",
   "execution_count": 2,
   "id": "12f81add",
   "metadata": {},
   "outputs": [
    {
     "name": "stdout",
     "output_type": "stream",
     "text": [
      "1\n",
      "(2, 3)\n",
      "{'x': 10, 'y': 20}\n"
     ]
    }
   ],
   "source": [
    "def f(a, *args, **kwargs):\n",
    "    print(a)\n",
    "    print(args)\n",
    "    print(kwargs)\n",
    "\n",
    "f(1, 2, 3, x=10, y=20)\n"
   ]
  },
  {
   "cell_type": "code",
   "execution_count": 5,
   "id": "56c188f2",
   "metadata": {},
   "outputs": [
    {
     "name": "stdout",
     "output_type": "stream",
     "text": [
      "Hi, Alice!\n"
     ]
    }
   ],
   "source": [
    "def greet(name, greeting=\"Hello\", /):\n",
    "    print(f\"{greeting}, {name}!\")\n",
    "\n",
    "greet(\"Alice\", \"Hi\")"
   ]
  },
  {
   "cell_type": "code",
   "execution_count": 6,
   "id": "3e1a546a",
   "metadata": {},
   "outputs": [
    {
     "ename": "TypeError",
     "evalue": "greet() got some positional-only arguments passed as keyword arguments: 'greeting'",
     "output_type": "error",
     "traceback": [
      "\u001b[0;31m---------------------------------------------------------------------------\u001b[0m",
      "\u001b[0;31mTypeError\u001b[0m                                 Traceback (most recent call last)",
      "Cell \u001b[0;32mIn[6], line 1\u001b[0m\n\u001b[0;32m----> 1\u001b[0m greet(\u001b[38;5;124m\"\u001b[39m\u001b[38;5;124mAlice\u001b[39m\u001b[38;5;124m\"\u001b[39m, greeting\u001b[38;5;241m=\u001b[39m\u001b[38;5;124m\"\u001b[39m\u001b[38;5;124mhi\u001b[39m\u001b[38;5;124m\"\u001b[39m)\n",
      "\u001b[0;31mTypeError\u001b[0m: greet() got some positional-only arguments passed as keyword arguments: 'greeting'"
     ]
    }
   ],
   "source": [
    "greet(\"Alice\", greeting=\"hi\")"
   ]
  },
  {
   "cell_type": "code",
   "execution_count": 7,
   "id": "c81a93e6",
   "metadata": {},
   "outputs": [],
   "source": [
    "def demo(a, b=2, /, c=3, *args, d, e=5, **kwargs):\n",
    "    print(f\"{a=}, {b=}, {c=}, {args=}, {d=}, {e=}, {kwargs=}\")\n"
   ]
  },
  {
   "cell_type": "code",
   "execution_count": 12,
   "id": "63263b77",
   "metadata": {},
   "outputs": [
    {
     "name": "stdout",
     "output_type": "stream",
     "text": [
      "a=1, b=4, c=5, args=(6, 7), d=8, e=5, kwargs={'x': 9, 'y': 10}\n"
     ]
    }
   ],
   "source": [
    "demo(1, 4, 5, 6, 7, d=8, x=9, y=10)"
   ]
  },
  {
   "cell_type": "markdown",
   "id": "c4af0189",
   "metadata": {},
   "source": [
    "## Fucntion Arguments Rules: Positional vs Keyword, Default vs Non-defaults\n",
    "- Warning: use of `arg=val` in the definition of function(inside paranthesis) is irrelevant to the fact the arg is positional or keyword, it just whows that arg has a default value\n",
    "- Here is the arguments definition structure in python:\n",
    "\n",
    "- function args inside (): \n",
    "- `(pos-only, /, pos-or-keyword, *args or *, keyword-only, **kwargs)`\n",
    "    - positional only args(could have default value or not)\n",
    "        - non-defaults \n",
    "        - defaults\n",
    "    - `/` to end positional only args, and start positional-or-keyword part\n",
    "    - args that could be used as both positional or keyword(could have default value or not)\n",
    "        -  non-defaults \n",
    "        - defaults\n",
    "    - `*args` to capture extra positional only args(which will be non-defaults)  \n",
    "    - `*` to start keyword-only args(if there is a `*args`,, there is no need for `*`) \n",
    "        -  non-defaults \n",
    "        - defaults\n",
    "    - `**kwargs` to capture extra keyword-only args(which will be non-defaults)\n"
   ]
  },
  {
   "cell_type": "markdown",
   "id": "6c7102ef",
   "metadata": {},
   "source": []
  }
 ],
 "metadata": {
  "kernelspec": {
   "display_name": "canaconda_kernel",
   "language": "python",
   "name": "canaconda_3.12.4_k"
  },
  "language_info": {
   "codemirror_mode": {
    "name": "ipython",
    "version": 3
   },
   "file_extension": ".py",
   "mimetype": "text/x-python",
   "name": "python",
   "nbconvert_exporter": "python",
   "pygments_lexer": "ipython3",
   "version": "3.12.4"
  }
 },
 "nbformat": 4,
 "nbformat_minor": 5
}
