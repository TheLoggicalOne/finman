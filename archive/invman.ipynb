{
 "cells": [
  {
   "cell_type": "code",
   "execution_count": 1,
   "id": "a691290d-1cac-4601-a0c6-9c3036b369c9",
   "metadata": {},
   "outputs": [],
   "source": [
    "import numpy as np\n",
    "import pandas as pd"
   ]
  },
  {
   "cell_type": "code",
   "execution_count": null,
   "id": "7d1d24ae-7541-449a-a96d-c7f79686fd4f",
   "metadata": {},
   "outputs": [],
   "source": []
  },
  {
   "cell_type": "code",
   "execution_count": null,
   "id": "68fbeb60-624d-4a09-9847-08b7bf677cae",
   "metadata": {},
   "outputs": [],
   "source": []
  },
  {
   "cell_type": "code",
   "execution_count": 4,
   "id": "5a0c765e-6d57-4136-bf37-2a435f05b96b",
   "metadata": {},
   "outputs": [],
   "source": [
    "class Payment:\n",
    "    def __init__(self, amount=0,  pay_day=None, days_from_now=None, current_day=0,is_certain=True):\n",
    "        if pay_day is not None:\n",
    "            self.pay_day = pay_day\n",
    "            if days_from_now is not None: \n",
    "                assert(current_day+days_from_now == pay_day)    \n",
    "            else:\n",
    "                self.days_from_now = pay_day - current_day \n",
    "        elif days_from_now is not None:\n",
    "            self.days_from_now = days_from_now\n",
    "            self.pay_day = days_from_now + current_day\n",
    "        else:\n",
    "            print(\"A Payment Should have pay_day or days_from_now not None\")\n",
    "        self.amount = amount\n",
    "        self.current_day = current_day\n",
    "        self.is_certain = is_certain\n",
    "        self.v = self.amount\n",
    "    \n",
    "    def value_at(self, evalute_at=0, periodic_return=0, period_len=30):\n",
    "        return (1+periodic_return)**((evalute_at-self.pay_day)/period_len)*self.amount\n",
    "    "
   ]
  },
  {
   "cell_type": "code",
   "execution_count": null,
   "id": "11de99b4-49fb-48d2-ade0-aa63a65aaa95",
   "metadata": {},
   "outputs": [],
   "source": [
    "class Payment:\n",
    "    def __init__(self,amount, days_to_payday=0)"
   ]
  },
  {
   "cell_type": "code",
   "execution_count": null,
   "id": "276aa9f5-ef4d-4e35-a680-519c2aad2b8a",
   "metadata": {},
   "outputs": [],
   "source": []
  },
  {
   "cell_type": "code",
   "execution_count": null,
   "id": "8efcfb32-2e8d-43c4-8df3-b3ae93f05734",
   "metadata": {},
   "outputs": [],
   "source": []
  },
  {
   "cell_type": "code",
   "execution_count": null,
   "id": "b284c845-19e3-4eb2-8f14-2980fdcb9b66",
   "metadata": {},
   "outputs": [],
   "source": []
  },
  {
   "cell_type": "code",
   "execution_count": null,
   "id": "b130e6ad-e6e0-48c5-a5dc-920966562ae6",
   "metadata": {},
   "outputs": [],
   "source": []
  },
  {
   "cell_type": "code",
   "execution_count": null,
   "id": "a67b53a3-fa23-456f-ac70-982b16df07b2",
   "metadata": {},
   "outputs": [],
   "source": []
  }
 ],
 "metadata": {
  "kernelspec": {
   "display_name": "canaconda_kernel",
   "language": "python",
   "name": "canaconda_3.12.4_k"
  },
  "language_info": {
   "codemirror_mode": {
    "name": "ipython",
    "version": 3
   },
   "file_extension": ".py",
   "mimetype": "text/x-python",
   "name": "python",
   "nbconvert_exporter": "python",
   "pygments_lexer": "ipython3",
   "version": "3.12.4"
  }
 },
 "nbformat": 4,
 "nbformat_minor": 5
}
