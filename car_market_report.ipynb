{
 "cells": [
  {
   "cell_type": "code",
   "execution_count": 1,
   "id": "initial_id",
   "metadata": {
    "collapsed": true,
    "ExecuteTime": {
     "end_time": "2023-10-25T06:00:53.416483167Z",
     "start_time": "2023-10-25T06:00:53.222797571Z"
    }
   },
   "outputs": [],
   "source": [
    "import pv_calc"
   ]
  },
  {
   "cell_type": "markdown",
   "source": [
    "# Kerman Motor Financing for Aban 1402\n",
    "- from 1402/08/01 to 1402/08/03\n",
    "- zarfiate mazade az mahale afzayesh tolid"
   ],
   "metadata": {
    "collapsed": false
   },
   "id": "6402585ae09b4ca4"
  },
  {
   "cell_type": "markdown",
   "source": [
    "### Jac J4"
   ],
   "metadata": {
    "collapsed": false
   },
   "id": "d1a3bb597cbf4deb"
  },
  {
   "cell_type": "code",
   "execution_count": 8,
   "outputs": [
    {
     "name": "stdout",
     "output_type": "stream",
     "text": [
      "per period interest rate is: 6.085800000004021\n",
      "monthly interest rate is: 1.988785131193982\n",
      "yearly interest rate is: 26.656949251406246\n"
     ]
    }
   ],
   "source": [
    "# Jac J4:  6 * (95 per 3m, in 18m)  + 300\n",
    "J4_dp300_p6_pd3m = pv_calc.IRR_of_ghesti(cash_price=765.89, down_payments=300, periodic_payment=95.00, n_periods=6)\n",
    "r = J4_dp300_p6_pd3m\n",
    "print(f'per period interest rate is: {100 * r}')\n",
    "print(f'monthly interest rate is: {100*pv_calc.convert_ir(r, 3, 1)}')\n",
    "print(f'yearly interest rate is: {100*pv_calc.convert_ir(r, 3, 12)}')"
   ],
   "metadata": {
    "collapsed": false,
    "ExecuteTime": {
     "end_time": "2023-10-25T06:09:30.780371106Z",
     "start_time": "2023-10-25T06:09:30.734981495Z"
    }
   },
   "id": "bfaf429b68eecf9a"
  },
  {
   "cell_type": "code",
   "execution_count": 10,
   "outputs": [
    {
     "name": "stdout",
     "output_type": "stream",
     "text": [
      "per period interest rate is: 7.334000000005268\n",
      "monthly interest rate is: 2.3872247653027756\n",
      "yearly interest rate is: 32.72393763548806\n"
     ]
    }
   ],
   "source": [
    "# Jac J4:  10 * (67.36 per 3m, in 30m)  + 300\n",
    "J4_dp300_p10_pd3m = pv_calc.IRR_of_ghesti(cash_price=765.89, down_payments=300, periodic_payment=67.36, n_periods=10)\n",
    "r = J4_dp300_p10_pd3m\n",
    "print(f'per period interest rate is: {100 * r}')\n",
    "print(f'monthly interest rate is: {100*pv_calc.convert_ir(r, 3, 1)}')\n",
    "print(f'yearly interest rate is: {100*pv_calc.convert_ir(r, 3, 12)}')"
   ],
   "metadata": {
    "collapsed": false,
    "ExecuteTime": {
     "end_time": "2023-10-25T06:11:20.379605033Z",
     "start_time": "2023-10-25T06:11:20.296044328Z"
    }
   },
   "id": "62fa9de54f69145"
  },
  {
   "cell_type": "code",
   "execution_count": 12,
   "outputs": [
    {
     "name": "stdout",
     "output_type": "stream",
     "text": [
      "per period interest rate is: 0.25320000000000115\n",
      "monthly interest rate is: 0.08432886643310322\n",
      "yearly interest rate is: 1.0166531115952226\n"
     ]
    }
   ],
   "source": [
    "# Jac J4:  8 * (33.16 per 3m, in 24m)  + 500\n",
    "J4_dp500_p8_pd3m = pv_calc.IRR_of_ghesti(cash_price=765.89, down_payments=500, periodic_payment=33.616, n_periods=8)\n",
    "r = J4_dp500_p8_pd3m\n",
    "print(f'per period interest rate is: {100 * r}')\n",
    "print(f'monthly interest rate is: {100*pv_calc.convert_ir(r, 3, 1)}')\n",
    "print(f'yearly interest rate is: {100*pv_calc.convert_ir(r, 3, 12)}')"
   ],
   "metadata": {
    "collapsed": false,
    "ExecuteTime": {
     "end_time": "2023-10-25T06:13:08.027371173Z",
     "start_time": "2023-10-25T06:13:07.984791744Z"
    }
   },
   "id": "e791ca1637d872b"
  },
  {
   "cell_type": "code",
   "execution_count": 14,
   "outputs": [
    {
     "name": "stdout",
     "output_type": "stream",
     "text": [
      "per period interest rate is: 1.0111999999999022\n",
      "monthly interest rate is: 0.3359368671568941\n",
      "yearly interest rate is: 4.106566163047831\n"
     ]
    }
   ],
   "source": [
    "# Jac J4:  10 * (28.09 per 3m, in 30m)  + 500\n",
    "J4_dp500_p10_pd3m = pv_calc.IRR_of_ghesti(cash_price=765.89, down_payments=500, periodic_payment=28.09, n_periods=10)\n",
    "r = J4_dp500_p10_pd3m\n",
    "print(f'per period interest rate is: {100 * r}')\n",
    "print(f'monthly interest rate is: {100*pv_calc.convert_ir(r, 3, 1)}')\n",
    "print(f'yearly interest rate is: {100*pv_calc.convert_ir(r, 3, 12)}')"
   ],
   "metadata": {
    "collapsed": false,
    "ExecuteTime": {
     "end_time": "2023-10-25T06:15:17.907313672Z",
     "start_time": "2023-10-25T06:15:17.903402646Z"
    }
   },
   "id": "d3bf33ef04120b5"
  },
  {
   "cell_type": "code",
   "execution_count": 17,
   "outputs": [
    {
     "name": "stdout",
     "output_type": "stream",
     "text": [
      "per period interest rate is: 1.515299999999532\n",
      "monthly interest rate is: 0.5025700026763946\n",
      "yearly interest rate is: 6.200365050424428\n"
     ]
    }
   ],
   "source": [
    "# Jac J4:  12 * (28.09 per 3m, in 36m)  + 500\n",
    "J4_dp500_p12_pd3m = pv_calc.IRR_of_ghesti(cash_price=765.89, down_payments=500, periodic_payment=24.4, n_periods=12)\n",
    "r = J4_dp500_p12_pd3m\n",
    "print(f'per period interest rate is: {100 * r}')\n",
    "print(f'monthly interest rate is: {100*pv_calc.convert_ir(r, 3, 1)}')\n",
    "print(f'yearly interest rate is: {100*pv_calc.convert_ir(r, 3, 12)}')"
   ],
   "metadata": {
    "collapsed": false,
    "ExecuteTime": {
     "end_time": "2023-10-25T06:18:33.899374299Z",
     "start_time": "2023-10-25T06:18:33.857163958Z"
    }
   },
   "id": "98a51ae3d4690120"
  },
  {
   "cell_type": "markdown",
   "source": [
    "### Jac S5"
   ],
   "metadata": {
    "collapsed": false
   },
   "id": "a1e3ba8297a95922"
  },
  {
   "cell_type": "code",
   "execution_count": 29,
   "outputs": [
    {
     "name": "stdout",
     "output_type": "stream",
     "text": [
      "per period interest rate is: 7.3401000000052745\n",
      "monthly interest rate is: 2.3891643502735205\n",
      "yearly interest rate is: 32.754112045843485\n"
     ]
    }
   ],
   "source": [
    "# Jac S5:  6 * (158.34 per 3m, in 18m)  + 500\n",
    "S5_dp500_p6_pd3m = pv_calc.IRR_of_ghesti(cash_price=1246.89, down_payments=500, periodic_payment=158.343, n_periods=6)\n",
    "r = S5_dp500_p6_pd3m\n",
    "print(f'per period interest rate is: {100 * r}')\n",
    "print(f'monthly interest rate is: {100 * pv_calc.convert_ir(r, 3, 1)}')\n",
    "print(f'yearly interest rate is: {100 * pv_calc.convert_ir(r, 3, 12)}')"
   ],
   "metadata": {
    "collapsed": false,
    "ExecuteTime": {
     "end_time": "2023-10-25T06:42:48.211200077Z",
     "start_time": "2023-10-25T06:42:48.155301364Z"
    }
   },
   "id": "bcbb357c673312d2"
  },
  {
   "cell_type": "code",
   "execution_count": 31,
   "outputs": [
    {
     "name": "stdout",
     "output_type": "stream",
     "text": [
      "per period interest rate is: 8.012200000005947\n",
      "monthly interest rate is: 2.6024199341343257\n",
      "yearly interest rate is: 36.11038036283303\n"
     ]
    }
   ],
   "source": [
    "# Jac S5:  8 * (130.03 per 3m, in 24m)  + 500\n",
    "S5_dp500_p8_pd3m = pv_calc.IRR_of_ghesti(cash_price=1246.89, down_payments=500, periodic_payment=130.03, n_periods=8)\n",
    "r = S5_dp500_p8_pd3m\n",
    "print(f'per period interest rate is: {100 * r}')\n",
    "print(f'monthly interest rate is: {100 * pv_calc.convert_ir(r, 3, 1)}')\n",
    "print(f'yearly interest rate is: {100 * pv_calc.convert_ir(r, 3, 12)}')"
   ],
   "metadata": {
    "collapsed": false,
    "ExecuteTime": {
     "end_time": "2023-10-25T06:45:45.129205433Z",
     "start_time": "2023-10-25T06:45:45.057934362Z"
    }
   },
   "id": "fea827a4b4aadf98"
  },
  {
   "cell_type": "code",
   "execution_count": 3,
   "outputs": [
    {
     "name": "stdout",
     "output_type": "stream",
     "text": [
      "per period interest rate is: 0.2842000000000053\n",
      "monthly interest rate is: 0.09464373071685905\n",
      "yearly interest rate is: 1.1416553668164076\n"
     ]
    }
   ],
   "source": [
    "# Jac S5:  6 * (61.758 per 3m, in 18m)  + 880\n",
    "S5_dp880_p6_pd3m = pv_calc.IRR_of_ghesti(cash_price=1246.89, down_payments=880, periodic_payment=61.758, n_periods=6)\n",
    "r = S5_dp880_p6_pd3m\n",
    "print(f'per period interest rate is: {100 * r}')\n",
    "print(f'monthly interest rate is: {100*pv_calc.convert_ir(r, 3, 1)}')\n",
    "print(f'yearly interest rate is: {100*pv_calc.convert_ir(r, 3, 12)}')"
   ],
   "metadata": {
    "collapsed": false,
    "ExecuteTime": {
     "end_time": "2023-10-25T06:01:56.559200664Z",
     "start_time": "2023-10-25T06:01:56.517836131Z"
    }
   },
   "id": "fc724e20dd2562f5"
  },
  {
   "cell_type": "code",
   "execution_count": 5,
   "outputs": [
    {
     "name": "stdout",
     "output_type": "stream",
     "text": [
      "per period interest rate is: 1.0478999999998753\n",
      "monthly interest rate is: 0.3480869489003613\n",
      "yearly interest rate is: 4.257947147663721\n"
     ]
    }
   ],
   "source": [
    "# Jac S5:  8 * (48.05 per 3m, in 24m)  + 880\n",
    "S5_dp880_p8_pd3m = pv_calc.IRR_of_ghesti(cash_price=1246.89, down_payments=880, periodic_payment=48.05, n_periods=8)\n",
    "r = S5_dp880_p8_pd3m\n",
    "print(f'per period interest rate is: {100 * r}')\n",
    "print(f'monthly interest rate is: {100*pv_calc.convert_ir(r, 3, 1)}')\n",
    "print(f'yearly interest rate is: {100*pv_calc.convert_ir(r, 3, 12)}')"
   ],
   "metadata": {
    "collapsed": false,
    "ExecuteTime": {
     "end_time": "2023-10-25T06:06:20.039216900Z",
     "start_time": "2023-10-25T06:06:19.998540934Z"
    }
   },
   "id": "6d9f4d6178cc5e8"
  },
  {
   "cell_type": "code",
   "execution_count": 6,
   "outputs": [
    {
     "name": "stdout",
     "output_type": "stream",
     "text": [
      "per period interest rate is: 1.5694999999995043\n",
      "monthly interest rate is: 0.5204532515955984\n",
      "yearly interest rate is: 6.427352361724825\n"
     ]
    }
   ],
   "source": [
    "# Jac S5:  10 * (48.05 per 3m, in 30m)  + 880\n",
    "S5_dp880_p10_pd3m = pv_calc.IRR_of_ghesti(cash_price=1246.89, down_payments=880, periodic_payment=39.93, n_periods=10)\n",
    "r = S5_dp880_p10_pd3m\n",
    "print(f'per period interest rate is: {100 * r}')\n",
    "print(f'monthly interest rate is: {100*pv_calc.convert_ir(r, 3, 1)}')\n",
    "print(f'yearly interest rate is: {100*pv_calc.convert_ir(r, 3, 12)}')"
   ],
   "metadata": {
    "collapsed": false,
    "ExecuteTime": {
     "end_time": "2023-10-25T06:07:23.851423771Z",
     "start_time": "2023-10-25T06:07:23.803133107Z"
    }
   },
   "id": "e8b91fce73be08fd"
  },
  {
   "cell_type": "markdown",
   "source": [
    "### Jac S3"
   ],
   "metadata": {
    "collapsed": false
   },
   "id": "2f88397836938961"
  },
  {
   "cell_type": "code",
   "execution_count": 20,
   "outputs": [
    {
     "name": "stdout",
     "output_type": "stream",
     "text": [
      "per period interest rate is: 6.334600000004269\n",
      "monthly interest rate is: 2.0684533450590292\n",
      "yearly interest rate is: 27.849315414260612\n"
     ]
    }
   ],
   "source": [
    "# Jac S3:  6 * (104.9 per 3m, in 18m)  + 400\n",
    "S3_dp400_p6_pd3m = pv_calc.IRR_of_ghesti(cash_price=910.45, down_payments=400, periodic_payment=104.9, n_periods=6)\n",
    "r = S3_dp400_p6_pd3m\n",
    "print(f'per period interest rate is: {100 * r}')\n",
    "print(f'monthly interest rate is: {100*pv_calc.convert_ir(r, 3, 1)}')\n",
    "print(f'yearly interest rate is: {100*pv_calc.convert_ir(r, 3, 12)}')"
   ],
   "metadata": {
    "collapsed": false,
    "ExecuteTime": {
     "end_time": "2023-10-25T06:24:19.279114158Z",
     "start_time": "2023-10-25T06:24:19.252717217Z"
    }
   },
   "id": "ededb3733a6fbbac"
  },
  {
   "cell_type": "code",
   "execution_count": 21,
   "outputs": [
    {
     "name": "stdout",
     "output_type": "stream",
     "text": [
      "per period interest rate is: 6.998600000004933\n",
      "monthly interest rate is: 2.28046609004795\n",
      "yearly interest rate is: 31.07274089386327\n"
     ]
    }
   ],
   "source": [
    "# Jac S3:  8 * (85.47 per 3m, in 24m)  + 400\n",
    "S3_dp400_p6_pd3m = pv_calc.IRR_of_ghesti(cash_price=910.45, down_payments=400, periodic_payment=85.479, n_periods=8)\n",
    "r = S3_dp400_p6_pd3m\n",
    "print(f'per period interest rate is: {100 * r}')\n",
    "print(f'monthly interest rate is: {100*pv_calc.convert_ir(r, 3, 1)}')\n",
    "print(f'yearly interest rate is: {100*pv_calc.convert_ir(r, 3, 12)}')"
   ],
   "metadata": {
    "collapsed": false,
    "ExecuteTime": {
     "end_time": "2023-10-25T06:31:55.569019998Z",
     "start_time": "2023-10-25T06:31:55.511757178Z"
    }
   },
   "id": "68744f35869e4834"
  },
  {
   "cell_type": "code",
   "execution_count": 22,
   "outputs": [
    {
     "name": "stdout",
     "output_type": "stream",
     "text": [
      "per period interest rate is: 0.2901000000000061\n",
      "monthly interest rate is: 0.09660664151434073\n",
      "yearly interest rate is: 1.165459253378076\n"
     ]
    }
   ],
   "source": [
    "# Jac S3:  6 * (43.85 per 3m, in 18m)  + 650\n",
    "S3_dp650_p6_pd3m = pv_calc.IRR_of_ghesti(cash_price=910.45, down_payments=650, periodic_payment=43.85, n_periods=6)\n",
    "r = S3_dp650_p6_pd3m\n",
    "print(f'per period interest rate is: {100 * r}')\n",
    "print(f'monthly interest rate is: {100*pv_calc.convert_ir(r, 3, 1)}')\n",
    "print(f'yearly interest rate is: {100*pv_calc.convert_ir(r, 3, 12)}')"
   ],
   "metadata": {
    "collapsed": false,
    "ExecuteTime": {
     "end_time": "2023-10-25T06:34:58.547186492Z",
     "start_time": "2023-10-25T06:34:58.504525780Z"
    }
   },
   "id": "8ce2f183b2843722"
  },
  {
   "cell_type": "code",
   "execution_count": 27,
   "outputs": [
    {
     "name": "stdout",
     "output_type": "stream",
     "text": [
      "per period interest rate is: 1.0544999999998705\n",
      "monthly interest rate is: 0.3502716651090365\n",
      "yearly interest rate is: 4.2851884805287455\n"
     ]
    }
   ],
   "source": [
    "# Jac S3:  8 * (34.12 per 3m, in 24m)  + 650\n",
    "S3_dp650_p8_pd3m = pv_calc.IRR_of_ghesti(cash_price=910.45, down_payments=650, periodic_payment=34.12, n_periods=8)\n",
    "r = S3_dp650_p8_pd3m\n",
    "print(f'per period interest rate is: {100 * r}')\n",
    "print(f'monthly interest rate is: {100*pv_calc.convert_ir(r, 3, 1)}')\n",
    "print(f'yearly interest rate is: {100*pv_calc.convert_ir(r, 3, 12)}')"
   ],
   "metadata": {
    "collapsed": false,
    "ExecuteTime": {
     "end_time": "2023-10-25T06:40:04.182849602Z",
     "start_time": "2023-10-25T06:40:04.158829402Z"
    }
   },
   "id": "6eff3c84163d94a4"
  },
  {
   "cell_type": "code",
   "execution_count": 28,
   "outputs": [
    {
     "name": "stdout",
     "output_type": "stream",
     "text": [
      "per period interest rate is: 1.3299999999996681\n",
      "monthly interest rate is: 0.44138228381671585\n",
      "yearly interest rate is: 5.427078183805856\n"
     ]
    }
   ],
   "source": [
    "# Jac S3:  10 * (28.36 per 3m, in 30m)  + 650\n",
    "S3_dp650_p10_pd3m = pv_calc.IRR_of_ghesti(cash_price=910.45, down_payments=650, periodic_payment=28.36, n_periods=10,rest=2)\n",
    "r = S3_dp650_p10_pd3m\n",
    "print(f'per period interest rate is: {100 * r}')\n",
    "print(f'monthly interest rate is: {100*pv_calc.convert_ir(r, 3, 1)}')\n",
    "print(f'yearly interest rate is: {100*pv_calc.convert_ir(r, 3, 12)}')"
   ],
   "metadata": {
    "collapsed": false,
    "ExecuteTime": {
     "end_time": "2023-10-25T06:40:07.802910769Z",
     "start_time": "2023-10-25T06:40:07.770031956Z"
    }
   },
   "id": "dc5e356818a223ae"
  },
  {
   "cell_type": "markdown",
   "source": [
    "### OLD"
   ],
   "metadata": {
    "collapsed": false
   },
   "id": "acedd03f757c2ae3"
  },
  {
   "cell_type": "code",
   "execution_count": 15,
   "outputs": [
    {
     "name": "stdout",
     "output_type": "stream",
     "text": [
      "per period interest rate is: 7.3401000000052745\n",
      "monthly interest rate is: 2.3891643502735205\n",
      "yearly interest rate is: 32.754112045843485\n"
     ]
    }
   ],
   "source": [
    "# Jac S5:  6 * (64.273 per 3m, in 18m)  + 900\n",
    "S5_dp500_p6_pd3m = pv_calc.IRR_of_ghesti(cash_price=1246.89, down_payments=500, periodic_payment=158.343, n_periods=6)\n",
    "r = S5_dp500_p6_pd3m\n",
    "print(f'per period interest rate is: {100 * r}')\n",
    "print(f'monthly interest rate is: {100 * pv_calc.convert_ir(r, 3, 1)}')\n",
    "print(f'yearly interest rate is: {100 * pv_calc.convert_ir(r, 3, 12)}')"
   ],
   "metadata": {
    "collapsed": false,
    "ExecuteTime": {
     "end_time": "2023-10-24T13:01:33.675209411Z",
     "start_time": "2023-10-24T13:01:33.615770904Z"
    }
   },
   "id": "b12ead8230d78103"
  },
  {
   "cell_type": "code",
   "execution_count": 12,
   "outputs": [
    {
     "name": "stdout",
     "output_type": "stream",
     "text": [
      "per period interest rate is: 1.5704999999995053\n",
      "monthly interest rate is: 0.5207831410583452\n",
      "yearly interest rate is: 6.431543735084433\n"
     ]
    }
   ],
   "source": [
    "S5_dp900_p10_pd3m = pv_calc.IRR_of_ghesti(cash_price=1246.89, down_payments=880, periodic_payment=39.932, n_periods=10)\n",
    "r = S5_dp900_p10_pd3m\n",
    "print(f'per period interest rate is: {100 * r}')\n",
    "print(f'monthly interest rate is: {100 * pv_calc.convert_ir(r, 3, 1)}')\n",
    "print(f'yearly interest rate is: {100 * pv_calc.convert_ir(r, 3, 12)}')"
   ],
   "metadata": {
    "collapsed": false,
    "ExecuteTime": {
     "end_time": "2023-10-24T12:58:37.051256517Z",
     "start_time": "2023-10-24T12:58:37.003187944Z"
    }
   },
   "id": "dd51b61a5e2de1fd"
  },
  {
   "cell_type": "code",
   "execution_count": 13,
   "outputs": [
    {
     "name": "stdout",
     "output_type": "stream",
     "text": [
      "per period interest rate is: 8.00620000000594\n",
      "monthly interest rate is: 2.6005200687520214\n",
      "yearly interest rate is: 36.080139547917845\n"
     ]
    }
   ],
   "source": [
    "S5_dp500_p8_pd3m = pv_calc.IRR_of_ghesti(cash_price=1246.89, down_payments=500, periodic_payment=130, n_periods=8)\n",
    "r = S5_dp500_p8_pd3m\n",
    "print(f'per period interest rate is: {100 * r}')\n",
    "print(f'monthly interest rate is: {100 * pv_calc.convert_ir(r, 3, 1)}')\n",
    "print(f'yearly interest rate is: {100 * pv_calc.convert_ir(r, 3, 12)}')"
   ],
   "metadata": {
    "collapsed": false,
    "ExecuteTime": {
     "end_time": "2023-10-24T13:00:08.007123992Z",
     "start_time": "2023-10-24T13:00:07.926755543Z"
    }
   },
   "id": "4d35dcf8128a2e66"
  },
  {
   "cell_type": "code",
   "execution_count": null,
   "outputs": [],
   "source": [],
   "metadata": {
    "collapsed": false
   },
   "id": "e46e77b2e58b9843"
  }
 ],
 "metadata": {
  "kernelspec": {
   "name": "python3",
   "language": "python",
   "display_name": "Python 3 (ipykernel)"
  },
  "language_info": {
   "codemirror_mode": {
    "name": "ipython",
    "version": 2
   },
   "file_extension": ".py",
   "mimetype": "text/x-python",
   "name": "python",
   "nbconvert_exporter": "python",
   "pygments_lexer": "ipython2",
   "version": "2.7.6"
  }
 },
 "nbformat": 4,
 "nbformat_minor": 5
}
